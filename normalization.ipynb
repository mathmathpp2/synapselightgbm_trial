{
 "cells": [
  {
   "cell_type": "code",
   "execution_count": 2,
   "id": "8ea7bb7b-14cb-44db-aa74-4f2d362263d5",
   "metadata": {},
   "outputs": [
    {
     "name": "stderr",
     "output_type": "stream",
     "text": [
      "24/07/16 13:59:40 WARN Instrumentation: [80503bd9] regParam is zero, which might cause numerical instability and overfitting.\n",
      "24/07/16 13:59:41 WARN InstanceBuilder: Failed to load implementation from:dev.ludovic.netlib.blas.JNIBLAS\n",
      "24/07/16 13:59:41 WARN InstanceBuilder: Failed to load implementation from:dev.ludovic.netlib.lapack.JNILAPACK\n",
      "24/07/16 13:59:41 WARN Instrumentation: [80503bd9] Cholesky solver failed due to singular covariance matrix. Retrying with Quasi-Newton solver.\n"
     ]
    },
    {
     "name": "stdout",
     "output_type": "stream",
     "text": [
      "+---+--------------------+-----+\n",
      "| id|            features|label|\n",
      "+---+--------------------+-----+\n",
      "|  0|(8,[2,4,7],[1.0,1...| 20.0|\n",
      "|  1|(8,[0,3,6,7],[1.0...| 30.0|\n",
      "|  2|(8,[1,5,6],[1.0,1...| 25.0|\n",
      "+---+--------------------+-----+\n",
      "\n"
     ]
    }
   ],
   "source": [
    "from pyspark.sql import SparkSession\n",
    "from pyspark.ml.feature import StringIndexer, OneHotEncoder, VectorAssembler, MinMaxScaler  # ADDED\n",
    "from pyspark.ml import Pipeline\n",
    "from pyspark.ml.regression import LinearRegression, RandomForestRegressor, GBTRegressor\n",
    "\n",
    "# Initialize Spark Session\n",
    "spark = SparkSession.builder.appName(\"RegressorExamples\").getOrCreate()\n",
    "\n",
    "# Create the DataFrame\n",
    "data = spark.createDataFrame([\n",
    "    (0, \"red\", \"SUV\", 12, 20.0, 60, 5),\n",
    "    (1, \"blue\", \"sedan\", 9, 30.0, 70, 10),\n",
    "    (2, \"green\", \"truck\", 15, 25.0, 80, 3)\n",
    "], [\"id\", \"color\", \"type\", \"hour\", \"label\", \"milesperhour\", \"age\"])\n",
    "\n",
    "# String Indexing\n",
    "indexers = [\n",
    "    StringIndexer(inputCol=\"color\", outputCol=\"color_index\"),\n",
    "    StringIndexer(inputCol=\"type\", outputCol=\"type_index\"),\n",
    "    StringIndexer(inputCol=\"hour\", outputCol=\"hour_index\")\n",
    "]\n",
    "\n",
    "# One-Hot Encoding for Linear Regression (not needed for tree-based models)\n",
    "encoder = OneHotEncoder(\n",
    "    inputCols=[\"color_index\", \"type_index\", \"hour_index\"],\n",
    "    outputCols=[\"color_vec\", \"type_vec\", \"hour_vec\"]\n",
    ")\n",
    "\n",
    "# Assembling Features for Linear Regression\n",
    "assembler_lr = VectorAssembler(\n",
    "    inputCols=[\"color_vec\", \"type_vec\", \"hour_vec\", \"milesperhour\", \"age\"],\n",
    "    outputCol=\"features_assembled\"  # CHANGED\n",
    ")\n",
    "\n",
    "# ADDED: Applying MinMaxScaler for Linear Regression\n",
    "scaler_lr = MinMaxScaler(inputCol=\"features_assembled\", outputCol=\"features\")\n",
    "\n",
    "# # Assembling Features for Tree-Based Models\n",
    "# assembler_tree = VectorAssembler(\n",
    "#     inputCols=[\"color_index\", \"type_index\", \"hour_index\", \"milesperhour\", \"age\"],\n",
    "#     outputCol=\"features\"\n",
    "# )\n",
    "\n",
    "# Create and Fit the Pipeline for Linear Regression\n",
    "pipeline_lr = Pipeline(stages=indexers + [encoder, assembler_lr, scaler_lr])\n",
    "model_lr = pipeline_lr.fit(data)\n",
    "transformed_data_lr = model_lr.transform(data)\n",
    "\n",
    "# # Create and Fit the Pipeline for Tree-Based Models\n",
    "# pipeline_tree = Pipeline(stages=indexers + [assembler_tree])\n",
    "# model_tree = pipeline_tree.fit(data)\n",
    "# transformed_data_tree = model_tree.transform(data)\n",
    "\n",
    "# Training the Linear Regression Model\n",
    "lr = LinearRegression(featuresCol=\"features\", labelCol=\"label\")\n",
    "lr_model = lr.fit(transformed_data_lr)\n",
    "\n",
    "# # Training the Random Forest Regressor\n",
    "# rf = RandomForestRegressor(featuresCol=\"features\", labelCol=\"label\")\n",
    "# rf_model = rf.fit(transformed_data_tree)\n",
    "\n",
    "# # Training the GBT Regressor\n",
    "# gbt = GBTRegressor(featuresCol=\"features\", labelCol=\"label\")\n",
    "# gbt_model = gbt.fit(transformed_data_tree)\n",
    "\n",
    "# View Transformed Data (Optional)\n",
    "transformed_data_lr.select(\"id\", \"features\", \"label\").show()\n",
    "# transformed_data_tree.select(\"id\", \"features\", \"label\").show()\n",
    "\n",
    "# Stop Spark Session\n",
    "# spark.stop()\n"
   ]
  },
  {
   "cell_type": "code",
   "execution_count": 7,
   "id": "7aae74c8-ff5d-4cd9-b84d-bd9fd409f5d5",
   "metadata": {},
   "outputs": [
    {
     "data": {
      "text/html": [
       "<div>\n",
       "<style scoped>\n",
       "    .dataframe tbody tr th:only-of-type {\n",
       "        vertical-align: middle;\n",
       "    }\n",
       "\n",
       "    .dataframe tbody tr th {\n",
       "        vertical-align: top;\n",
       "    }\n",
       "\n",
       "    .dataframe thead th {\n",
       "        text-align: right;\n",
       "    }\n",
       "</style>\n",
       "<table border=\"1\" class=\"dataframe\">\n",
       "  <thead>\n",
       "    <tr style=\"text-align: right;\">\n",
       "      <th></th>\n",
       "      <th>features_assembled</th>\n",
       "      <th>features</th>\n",
       "    </tr>\n",
       "  </thead>\n",
       "  <tbody>\n",
       "    <tr>\n",
       "      <th>0</th>\n",
       "      <td>(0.0, 0.0, 1.0, 0.0, 1.0, 0.0, 60.0, 5.0)</td>\n",
       "      <td>(0.0, 0.0, 1.0, 0.0, 1.0, 0.0, 0.0, 0.28571428...</td>\n",
       "    </tr>\n",
       "    <tr>\n",
       "      <th>1</th>\n",
       "      <td>(1.0, 0.0, 0.0, 1.0, 0.0, 0.0, 70.0, 10.0)</td>\n",
       "      <td>(1.0, 0.0, 0.0, 1.0, 0.0, 0.0, 0.5, 1.0)</td>\n",
       "    </tr>\n",
       "    <tr>\n",
       "      <th>2</th>\n",
       "      <td>(0.0, 1.0, 0.0, 0.0, 0.0, 1.0, 80.0, 3.0)</td>\n",
       "      <td>(0.0, 1.0, 0.0, 0.0, 0.0, 1.0, 1.0, 0.0)</td>\n",
       "    </tr>\n",
       "  </tbody>\n",
       "</table>\n",
       "</div>"
      ],
      "text/plain": [
       "                           features_assembled  \\\n",
       "0   (0.0, 0.0, 1.0, 0.0, 1.0, 0.0, 60.0, 5.0)   \n",
       "1  (1.0, 0.0, 0.0, 1.0, 0.0, 0.0, 70.0, 10.0)   \n",
       "2   (0.0, 1.0, 0.0, 0.0, 0.0, 1.0, 80.0, 3.0)   \n",
       "\n",
       "                                            features  \n",
       "0  (0.0, 0.0, 1.0, 0.0, 1.0, 0.0, 0.0, 0.28571428...  \n",
       "1           (1.0, 0.0, 0.0, 1.0, 0.0, 0.0, 0.5, 1.0)  \n",
       "2           (0.0, 1.0, 0.0, 0.0, 0.0, 1.0, 1.0, 0.0)  "
      ]
     },
     "execution_count": 7,
     "metadata": {},
     "output_type": "execute_result"
    }
   ],
   "source": [
    "transformed_data_lr.toPandas()[[\"features_assembled\", \"features\"]]"
   ]
  },
  {
   "cell_type": "code",
   "execution_count": null,
   "id": "f3ec9ab2-5d07-474d-83a8-9184c08f0ed8",
   "metadata": {},
   "outputs": [],
   "source": []
  }
 ],
 "metadata": {
  "kernelspec": {
   "display_name": "Python 3 (ipykernel)",
   "language": "python",
   "name": "python3"
  },
  "language_info": {
   "codemirror_mode": {
    "name": "ipython",
    "version": 3
   },
   "file_extension": ".py",
   "mimetype": "text/x-python",
   "name": "python",
   "nbconvert_exporter": "python",
   "pygments_lexer": "ipython3",
   "version": "3.11.7"
  }
 },
 "nbformat": 4,
 "nbformat_minor": 5
}
