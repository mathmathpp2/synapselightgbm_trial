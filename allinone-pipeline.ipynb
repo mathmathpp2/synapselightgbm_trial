{
 "cells": [
  {
   "cell_type": "code",
   "execution_count": 1,
   "id": "aa0d5357-a45a-470e-bd07-c5f66297e94f",
   "metadata": {},
   "outputs": [],
   "source": [
    "import pandas as pd\n",
    "import numpy as np\n",
    "\n",
    "from pyspark.sql.functions import coalesce, lit\n",
    "from pyspark.ml.feature import StringIndexer, OneHotEncoder, VectorAssembler, MinMaxScaler\n",
    "from pyspark.ml import Pipeline, PipelineModel\n",
    "from pyspark.ml.classification import LogisticRegression, RandomForestClassifier, GBTClassifier, NaiveBayes\n",
    "from pyspark.ml.evaluation import MulticlassClassificationEvaluator\n",
    "from pyspark.ml.classification import LogisticRegressionModel, RandomForestClassificationModel\n",
    "from pyspark.sql import SparkSession\n",
    "from pyspark import SparkConf, SparkContext"
   ]
  },
  {
   "cell_type": "code",
   "execution_count": 2,
   "id": "154a5722-0545-47e7-a7ea-cd5d856b66d9",
   "metadata": {},
   "outputs": [
    {
     "name": "stderr",
     "output_type": "stream",
     "text": [
      "24/07/19 07:44:59 WARN Utils: Your hostname, thamaMBP.local resolves to a loopback address: 127.0.0.1; using 172.20.10.5 instead (on interface en0)\n",
      "24/07/19 07:44:59 WARN Utils: Set SPARK_LOCAL_IP if you need to bind to another address\n"
     ]
    },
    {
     "name": "stdout",
     "output_type": "stream",
     "text": [
      ":: loading settings :: url = jar:file:/Users/thama/ghq/github.com/mathmathpp2/synapselightgbm_trial/synapse-test/.venv/lib/python3.11/site-packages/pyspark/jars/ivy-2.5.1.jar!/org/apache/ivy/core/settings/ivysettings.xml\n"
     ]
    },
    {
     "name": "stderr",
     "output_type": "stream",
     "text": [
      "Ivy Default Cache set to: /Users/thama/.ivy2/cache\n",
      "The jars for the packages stored in: /Users/thama/.ivy2/jars\n",
      "org.apache.hadoop#hadoop-aws added as a dependency\n",
      "org.apache.hadoop#hadoop-client-api added as a dependency\n",
      "org.apache.hadoop#hadoop-client-runtime added as a dependency\n",
      ":: resolving dependencies :: org.apache.spark#spark-submit-parent-17db85c5-b95c-40c4-802d-1d1e88f4dce3;1.0\n",
      "\tconfs: [default]\n",
      "\tfound org.apache.hadoop#hadoop-aws;3.3.4 in central\n",
      "\tfound com.amazonaws#aws-java-sdk-bundle;1.12.262 in central\n",
      "\tfound org.wildfly.openssl#wildfly-openssl;1.0.7.Final in central\n",
      "\tfound org.apache.hadoop#hadoop-client-api;3.3.4 in central\n",
      "\tfound org.xerial.snappy#snappy-java;1.1.8.2 in central\n",
      "\tfound org.apache.hadoop#hadoop-client-runtime;3.3.4 in central\n",
      "\tfound org.slf4j#slf4j-api;1.7.36 in central\n",
      "\tfound commons-logging#commons-logging;1.1.3 in central\n",
      "\tfound com.google.code.findbugs#jsr305;3.0.2 in local-m2-cache\n",
      ":: resolution report :: resolve 478ms :: artifacts dl 64ms\n",
      "\t:: modules in use:\n",
      "\tcom.amazonaws#aws-java-sdk-bundle;1.12.262 from central in [default]\n",
      "\tcom.google.code.findbugs#jsr305;3.0.2 from local-m2-cache in [default]\n",
      "\tcommons-logging#commons-logging;1.1.3 from central in [default]\n",
      "\torg.apache.hadoop#hadoop-aws;3.3.4 from central in [default]\n",
      "\torg.apache.hadoop#hadoop-client-api;3.3.4 from central in [default]\n",
      "\torg.apache.hadoop#hadoop-client-runtime;3.3.4 from central in [default]\n",
      "\torg.slf4j#slf4j-api;1.7.36 from central in [default]\n",
      "\torg.wildfly.openssl#wildfly-openssl;1.0.7.Final from central in [default]\n",
      "\torg.xerial.snappy#snappy-java;1.1.8.2 from central in [default]\n",
      "\t---------------------------------------------------------------------\n",
      "\t|                  |            modules            ||   artifacts   |\n",
      "\t|       conf       | number| search|dwnlded|evicted|| number|dwnlded|\n",
      "\t---------------------------------------------------------------------\n",
      "\t|      default     |   9   |   0   |   0   |   0   ||   9   |   0   |\n",
      "\t---------------------------------------------------------------------\n",
      ":: retrieving :: org.apache.spark#spark-submit-parent-17db85c5-b95c-40c4-802d-1d1e88f4dce3\n",
      "\tconfs: [default]\n",
      "\t0 artifacts copied, 9 already retrieved (0kB/19ms)\n",
      "24/07/19 07:45:01 WARN NativeCodeLoader: Unable to load native-hadoop library for your platform... using builtin-java classes where applicable\n",
      "Setting default log level to \"WARN\".\n",
      "To adjust logging level use sc.setLogLevel(newLevel). For SparkR, use setLogLevel(newLevel).\n"
     ]
    }
   ],
   "source": [
    "packages = [\n",
    "    'org.apache.hadoop:hadoop-aws:3.3.4',\n",
    "    'org.apache.hadoop:hadoop-client-api:3.3.4',\n",
    "    'org.apache.hadoop:hadoop-client-runtime:3.3.4',\n",
    "]\n",
    "\n",
    "conf = SparkConf() \\\n",
    "    .setAppName(\"MyApp\") \\\n",
    "    .set(\"spark.driver.memory\", \"8g\") \\\n",
    "    .set(\"spark.executor.memory\", \"8g\") \\\n",
    "    .set('spark.jars.packages', ','.join(packages))\n",
    "\n",
    "sc = SparkContext(conf=conf)\n",
    "\n",
    "hadoop_config = sc._jsc.hadoopConfiguration()\n",
    "hadoop_config.set('fs.s3a.impl', 'org.apache.hadoop.fs.s3a.S3AFileSystem')\n",
    "hadoop_config.set('com.amazonaws.services.s3.enableV4', 'true')\n",
    "\n",
    "spark = SparkSession(sc)"
   ]
  },
  {
   "cell_type": "code",
   "execution_count": 3,
   "id": "6d153dbc-e686-4e2a-bc5c-27ab8de9ee4b",
   "metadata": {},
   "outputs": [
    {
     "data": {
      "text/html": [
       "\n",
       "            <div>\n",
       "                <p><b>SparkSession - in-memory</b></p>\n",
       "                \n",
       "        <div>\n",
       "            <p><b>SparkContext</b></p>\n",
       "\n",
       "            <p><a href=\"http://172.20.10.5:4040\">Spark UI</a></p>\n",
       "\n",
       "            <dl>\n",
       "              <dt>Version</dt>\n",
       "                <dd><code>v3.4.3</code></dd>\n",
       "              <dt>Master</dt>\n",
       "                <dd><code>local[*]</code></dd>\n",
       "              <dt>AppName</dt>\n",
       "                <dd><code>MyApp</code></dd>\n",
       "            </dl>\n",
       "        </div>\n",
       "        \n",
       "            </div>\n",
       "        "
      ],
      "text/plain": [
       "<pyspark.sql.session.SparkSession at 0x13183da90>"
      ]
     },
     "execution_count": 3,
     "metadata": {},
     "output_type": "execute_result"
    }
   ],
   "source": [
    "spark"
   ]
  },
  {
   "cell_type": "code",
   "execution_count": 11,
   "id": "5173f746-1d1b-40f6-93ca-593da53750a0",
   "metadata": {},
   "outputs": [],
   "source": [
    "# Create the DataFrame\n",
    "\n",
    "# number label\n",
    "# data = spark.createDataFrame([\n",
    "#     (0, \"red\",   \"SUV\",   12, 20.0, 60, 1, \"2024-07-01\", \"u4pruydqqvj\"),\n",
    "#     (1, \"red\",   \"sedan\",  9, 30.0, 70, 2, \"2024-07-02\", \"u4pruydqqvk\"),\n",
    "#     (2, \"red\",   \"truck\", 15, 25.0, 80, 3, \"2024-07-01\", \"u4pruydqqvj\"),\n",
    "#     (3, \"blue\",  \"SUV\",   20, 22.0, 65, 1, \"2024-07-02\", \"u4pruydqqvk\"),\n",
    "#     (4, \"blue\",  \"sedan\",  5, 35.0, 75, 1, \"2024-07-01\", \"u4pruydqqvj\"),\n",
    "#     (5, \"blue\",  \"truck\", 12, 28.0, 85, 3, \"2024-07-02\", \"u4pruydqqvk\"),\n",
    "#     (6, \"green\", \"SUV\",    9, 19.0, 50, 2, \"2024-07-03\", \"u4pruydqqvl\"),\n",
    "#     (7, \"green\", \"sedan\", 15, 32.0, 60, 3, \"2024-07-03\", \"u4pruydqqvm\"),\n",
    "#     (8, \"green\", \"truck\", 20, 27.0, 40, 1, \"2024-07-04\", \"u4pruydqqvn\"),\n",
    "#     (9, \"green\", \"SUV\",    5, 21.0, 55, 2, \"2024-07-04\", \"u4pruydqqvo\")\n",
    "# ], [\"id\", \"color\", \"type\", \"hour\", \"milesperhour\", \"age\", \"label\", \"date\", \"geohash\"])\n",
    "\n",
    "# string label\n",
    "data = spark.createDataFrame([\n",
    "    (0, \"red\",   \"SUV\",   12, 20.0, 60, \"class1\", \"2024-07-01\", \"u4pruydqqvj\"),\n",
    "    (1, \"red\",   \"sedan\",  9, 30.0, 70, \"class2\", \"2024-07-02\", \"u4pruydqqvk\"),\n",
    "    (2, \"red\",   \"truck\", 15, 25.0, 80, \"class3\", \"2024-07-01\", \"u4pruydqqvj\"),\n",
    "    (3, \"blue\",  \"SUV\",   20, 22.0, 65, \"class1\", \"2024-07-02\", \"u4pruydqqvk\"),\n",
    "    (4, \"blue\",  \"sedan\",  5, 35.0, 75, \"class1\", \"2024-07-01\", \"u4pruydqqvj\"),\n",
    "    (5, \"blue\",  \"truck\", 12, 28.0, 85, \"class3\", \"2024-07-02\", \"u4pruydqqvk\"),\n",
    "    (6, \"green\", \"SUV\",    9, 19.0, 50, \"class2\", \"2024-07-03\", \"u4pruydqqvl\"),\n",
    "    (7, \"green\", \"sedan\", 15, 32.0, 60, \"class3\", \"2024-07-03\", \"u4pruydqqvm\"),\n",
    "    (8, \"green\", \"truck\", 20, 27.0, 40, \"class1\", \"2024-07-04\", \"u4pruydqqvn\"),\n",
    "    (9, \"green\", \"SUV\",    5, 21.0, 55, \"class2\", \"2024-07-04\", \"u4pruydqqvo\")\n",
    "], [\"id\", \"color\", \"type\", \"hour\", \"milesperhour\", \"age\", \"label\", \"date\", \"geohash\"])\n",
    "\n",
    "# Split the data into training and test sets (80% training, 20% test)\n",
    "train_data, test_data = data.randomSplit([0.8, 0.2], seed=1234)\n",
    "\n",
    "# String Indexing for features\n",
    "indexers = [\n",
    "    StringIndexer(inputCol=\"label\", outputCol=\"label_index\"),\n",
    "    StringIndexer(inputCol=\"color\", outputCol=\"color_index\"),\n",
    "    StringIndexer(inputCol=\"type\", outputCol=\"type_index\"),\n",
    "    StringIndexer(inputCol=\"hour\", outputCol=\"hour_index\")\n",
    "]\n",
    "\n",
    "# One-Hot Encoding for Logistic Regression (not needed for tree-based models)\n",
    "encoder = OneHotEncoder(\n",
    "    inputCols=[\"color_index\", \"type_index\", \"hour_index\"],\n",
    "    outputCols=[\"color_vec\", \"type_vec\", \"hour_vec\"]\n",
    ")\n",
    "\n",
    "# Assembling Features for Logistic Regression and Naive Bayes\n",
    "assembler_lr_nb = VectorAssembler(\n",
    "    inputCols=[\"color_vec\", \"type_vec\", \"hour_vec\", \"milesperhour\", \"age\"],\n",
    "    outputCol=\"assembled_features\" # !!!\n",
    ")\n",
    "\n",
    "# Assembling Features for Tree-Based Models\n",
    "assembler_tree = VectorAssembler(\n",
    "    inputCols=[\"color_index\", \"type_index\", \"hour_index\", \"milesperhour\", \"age\"],\n",
    "    outputCol=\"features\"\n",
    ")\n",
    "\n",
    "# MinMaxScaler for Logistic Regression and Naive Bayes\n",
    "scaler_lr_nb = MinMaxScaler(inputCol=\"assembled_features\", outputCol=\"features\") # !!!\n",
    "\n",
    "# Create and Fit the Pipeline for Logistic Regression and Naive Bayes\n",
    "pipeline_lr_nb = Pipeline(stages=indexers + [encoder, assembler_lr_nb, scaler_lr_nb])\n",
    "model_lr_nb = pipeline_lr_nb.fit(train_data)\n",
    "transformed_train_data_lr_nb = model_lr_nb.transform(train_data)\n",
    "transformed_test_data_lr_nb = model_lr_nb.transform(test_data)\n",
    "\n",
    "# Create and Fit the Pipeline for Tree-Based Models\n",
    "pipeline_tree = Pipeline(stages=indexers + [assembler_tree])\n",
    "model_tree = pipeline_tree.fit(train_data)\n",
    "transformed_train_data_tree = model_tree.transform(train_data)\n",
    "transformed_test_data_tree = model_tree.transform(test_data)"
   ]
  },
  {
   "cell_type": "code",
   "execution_count": 26,
   "id": "2020b2e6-e9cc-472b-aeed-7d479545214a",
   "metadata": {},
   "outputs": [],
   "source": [
    "def get_features(df):\n",
    "     # !!!\n",
    "    if 'assembled_features' in df.schema.names:\n",
    "        feature_attrs = df.schema['assembled_features'].metadata['ml_attr']['attrs']\n",
    "    else:\n",
    "        feature_attrs = df.schema['features'].metadata['ml_attr']['attrs']\n",
    "\n",
    "    features = []\n",
    "    for attr_type, attrs in feature_attrs.items():\n",
    "        features += attrs\n",
    "\n",
    "    # for each in sorted(features, key=lambda x: x['idx']):\n",
    "    #     print(each['idx'], each['name'])\n",
    "    \n",
    "    feature_names = [each['name'] for each in sorted(features, key=lambda x: x['idx'])]\n",
    "\n",
    "    return feature_names"
   ]
  },
  {
   "cell_type": "code",
   "execution_count": 29,
   "id": "0e4f377a-b2af-4af0-aa2f-b82a41f7138c",
   "metadata": {},
   "outputs": [
    {
     "name": "stdout",
     "output_type": "stream",
     "text": [
      "0 color_vec_green\n",
      "1 color_vec_blue\n",
      "2 type_vec_SUV\n",
      "3 type_vec_sedan\n",
      "4 hour_vec_12\n",
      "5 hour_vec_20\n",
      "6 hour_vec_5\n",
      "7 hour_vec_9\n",
      "8 milesperhour\n",
      "9 age\n"
     ]
    },
    {
     "data": {
      "text/plain": [
       "['color_vec_green',\n",
       " 'color_vec_blue',\n",
       " 'type_vec_SUV',\n",
       " 'type_vec_sedan',\n",
       " 'hour_vec_12',\n",
       " 'hour_vec_20',\n",
       " 'hour_vec_5',\n",
       " 'hour_vec_9',\n",
       " 'milesperhour',\n",
       " 'age']"
      ]
     },
     "execution_count": 29,
     "metadata": {},
     "output_type": "execute_result"
    }
   ],
   "source": [
    "get_features(transformed_train_data_lr_nb)"
   ]
  },
  {
   "cell_type": "code",
   "execution_count": 30,
   "id": "0cea68b9-5d45-42a6-9931-da283100d030",
   "metadata": {},
   "outputs": [
    {
     "name": "stdout",
     "output_type": "stream",
     "text": [
      "0 color_index\n",
      "1 type_index\n",
      "2 hour_index\n",
      "3 milesperhour\n",
      "4 age\n"
     ]
    },
    {
     "data": {
      "text/plain": [
       "['color_index', 'type_index', 'hour_index', 'milesperhour', 'age']"
      ]
     },
     "execution_count": 30,
     "metadata": {},
     "output_type": "execute_result"
    }
   ],
   "source": [
    "get_features(transformed_train_data_tree)"
   ]
  },
  {
   "cell_type": "markdown",
   "id": "210f9b1f-3d54-41f2-b6e6-71b445b3cfee",
   "metadata": {},
   "source": [
    "# Logistic regression"
   ]
  },
  {
   "cell_type": "markdown",
   "id": "a6e733e9-f6b2-42ef-a2fd-8cf836ae7fb3",
   "metadata": {},
   "source": [
    "## save and load data"
   ]
  },
  {
   "cell_type": "code",
   "execution_count": 33,
   "id": "8dcc9b5e-5e05-4b19-8041-8c41437ed57f",
   "metadata": {},
   "outputs": [
    {
     "name": "stderr",
     "output_type": "stream",
     "text": [
      "                                                                                \r"
     ]
    }
   ],
   "source": [
    "# save to local\n",
    "data_path = \"data/transformed_train_data_lr_nb/\"\n",
    "\n",
    "# save to s3\n",
    "# data_path = \"s3a://test-thama-misc-20210612/20240717-sparkml/data/transformed_train_data_lr_nb/\"\n",
    "\n",
    "transformed_train_data_lr_nb.write.partitionBy(\"date\", \"geohash\").mode('overwrite').save(data_path)"
   ]
  },
  {
   "cell_type": "code",
   "execution_count": 34,
   "id": "0defbede-c20a-4e91-8b71-7f245bbec36c",
   "metadata": {},
   "outputs": [
    {
     "data": {
      "text/html": [
       "<div>\n",
       "<style scoped>\n",
       "    .dataframe tbody tr th:only-of-type {\n",
       "        vertical-align: middle;\n",
       "    }\n",
       "\n",
       "    .dataframe tbody tr th {\n",
       "        vertical-align: top;\n",
       "    }\n",
       "\n",
       "    .dataframe thead th {\n",
       "        text-align: right;\n",
       "    }\n",
       "</style>\n",
       "<table border=\"1\" class=\"dataframe\">\n",
       "  <thead>\n",
       "    <tr style=\"text-align: right;\">\n",
       "      <th></th>\n",
       "      <th>id</th>\n",
       "      <th>color</th>\n",
       "      <th>type</th>\n",
       "      <th>hour</th>\n",
       "      <th>milesperhour</th>\n",
       "      <th>age</th>\n",
       "      <th>label</th>\n",
       "      <th>label_index</th>\n",
       "      <th>color_index</th>\n",
       "      <th>type_index</th>\n",
       "      <th>hour_index</th>\n",
       "      <th>color_vec</th>\n",
       "      <th>type_vec</th>\n",
       "      <th>hour_vec</th>\n",
       "      <th>assembled_features</th>\n",
       "      <th>features</th>\n",
       "      <th>date</th>\n",
       "      <th>geohash</th>\n",
       "    </tr>\n",
       "  </thead>\n",
       "  <tbody>\n",
       "    <tr>\n",
       "      <th>0</th>\n",
       "      <td>4</td>\n",
       "      <td>blue</td>\n",
       "      <td>sedan</td>\n",
       "      <td>5</td>\n",
       "      <td>35.0</td>\n",
       "      <td>75</td>\n",
       "      <td>class1</td>\n",
       "      <td>0.0</td>\n",
       "      <td>1.0</td>\n",
       "      <td>1.0</td>\n",
       "      <td>2.0</td>\n",
       "      <td>(0.0, 1.0)</td>\n",
       "      <td>(0.0, 1.0)</td>\n",
       "      <td>(0.0, 0.0, 1.0, 0.0)</td>\n",
       "      <td>(0.0, 1.0, 0.0, 1.0, 0.0, 0.0, 1.0, 0.0, 35.0,...</td>\n",
       "      <td>(0.0, 1.0, 0.0, 1.0, 0.0, 0.0, 1.0, 0.0, 1.0, ...</td>\n",
       "      <td>2024-07-01</td>\n",
       "      <td>u4pruydqqvj</td>\n",
       "    </tr>\n",
       "  </tbody>\n",
       "</table>\n",
       "</div>"
      ],
      "text/plain": [
       "   id color   type  hour  milesperhour  age   label  label_index  color_index  \\\n",
       "0   4  blue  sedan     5          35.0   75  class1          0.0          1.0   \n",
       "\n",
       "   type_index  hour_index   color_vec    type_vec              hour_vec  \\\n",
       "0         1.0         2.0  (0.0, 1.0)  (0.0, 1.0)  (0.0, 0.0, 1.0, 0.0)   \n",
       "\n",
       "                                  assembled_features  \\\n",
       "0  (0.0, 1.0, 0.0, 1.0, 0.0, 0.0, 1.0, 0.0, 35.0,...   \n",
       "\n",
       "                                            features        date      geohash  \n",
       "0  (0.0, 1.0, 0.0, 1.0, 0.0, 0.0, 1.0, 0.0, 1.0, ...  2024-07-01  u4pruydqqvj  "
      ]
     },
     "execution_count": 34,
     "metadata": {},
     "output_type": "execute_result"
    }
   ],
   "source": [
    "# load data\n",
    "transformed_train_data_lr_nb_loaded = spark.read.load(data_path)\n",
    "\n",
    "# print\n",
    "transformed_train_data_lr_nb_loaded.toPandas().head(1)"
   ]
  },
  {
   "cell_type": "markdown",
   "id": "ed02529b-a62d-4de7-9a02-2c511e1ffdd8",
   "metadata": {},
   "source": [
    "## save and load pipeline"
   ]
  },
  {
   "cell_type": "code",
   "execution_count": 35,
   "id": "2e7a7b8f-1ecf-40b7-880c-f9a1bcf7575c",
   "metadata": {},
   "outputs": [],
   "source": [
    "# save to local\n",
    "pipeline_model_path = \"pipelines/model_lr_nb\"\n",
    "\n",
    "# save to s3\n",
    "# pipeline_model_path = \"s3a://test-thama-misc-20210612/20240717-sparkml/pipelines/model_lr_nb\"\n",
    "\n",
    "model_lr_nb.write().overwrite().save(pipeline_model_path)"
   ]
  },
  {
   "cell_type": "code",
   "execution_count": 36,
   "id": "b84677c0-d535-40ca-8aab-73a7ea731c32",
   "metadata": {},
   "outputs": [],
   "source": [
    "# load pipeline\n",
    "loaded_model = PipelineModel.load(pipeline_model_path)"
   ]
  },
  {
   "cell_type": "markdown",
   "id": "7fcb015b-97f1-4b01-b0f2-e1395b57c35f",
   "metadata": {},
   "source": [
    "## create model"
   ]
  },
  {
   "cell_type": "code",
   "execution_count": 37,
   "id": "f6f3531c-cca9-4321-8c0b-f00cb5793f0f",
   "metadata": {},
   "outputs": [
    {
     "name": "stderr",
     "output_type": "stream",
     "text": [
      "24/07/19 08:00:22 WARN InstanceBuilder: Failed to load implementation from:dev.ludovic.netlib.blas.JNIBLAS\n"
     ]
    }
   ],
   "source": [
    "# Training the Logistic Regression Model\n",
    "lr = LogisticRegression(featuresCol=\"features\", labelCol=\"label_index\")\n",
    "lr_model = lr.fit(transformed_train_data_lr_nb)"
   ]
  },
  {
   "cell_type": "markdown",
   "id": "161044be-e346-403b-889e-ce836d29aecb",
   "metadata": {},
   "source": [
    "## save and load model"
   ]
  },
  {
   "cell_type": "code",
   "execution_count": 38,
   "id": "0d80ceff-e90e-4263-9c44-7805c0a4531c",
   "metadata": {},
   "outputs": [],
   "source": [
    "# save to local\n",
    "model_path = \"models/lr_model/\"\n",
    "\n",
    "# save to s3\n",
    "# model_path = \"s3a://test-thama-misc-20210612/20240717-sparkml/models/lr_model/\"\n",
    "\n",
    "lr_model.write().overwrite().save(model_path)"
   ]
  },
  {
   "cell_type": "code",
   "execution_count": 39,
   "id": "fcc353ed-f4c7-433a-80ea-3284ff168adf",
   "metadata": {},
   "outputs": [],
   "source": [
    "# load model\n",
    "lr_model = LogisticRegressionModel.load(model_path)"
   ]
  },
  {
   "cell_type": "markdown",
   "id": "b9a545d8-5d6e-4e84-86bc-d7c52086c2d3",
   "metadata": {},
   "source": [
    "## interpret model"
   ]
  },
  {
   "cell_type": "code",
   "execution_count": 40,
   "id": "465b0e56-a5aa-415b-af35-072c197945d7",
   "metadata": {},
   "outputs": [
    {
     "name": "stdout",
     "output_type": "stream",
     "text": [
      "Coefficients: DenseMatrix([[-16.50659272,   2.25680371,   2.78347211,   3.08884321,\n",
      "                6.34129263,  13.67993769,   6.81600371, -11.04906031,\n",
      "                4.6806029 , -22.54001381],\n",
      "             [  1.95667653,  -7.68094173,   5.00340612,  -2.06113446,\n",
      "              -13.11928344,  -4.42240364,  10.8390998 ,  19.37451749,\n",
      "              -10.58002467,   2.6051087 ],\n",
      "             [ 14.54991619,   5.42413803,  -7.78687823,  -1.02770875,\n",
      "                6.77799081,  -9.25753405, -17.65510351,  -8.32545718,\n",
      "                5.89942177,  19.93490511]])\n",
      "Intercept: [13.415660362682623,0.9619389248875653,-14.377599287570186]\n"
     ]
    }
   ],
   "source": [
    "# Get model coefficients and intercept for Logistic Regression\n",
    "coefficients = lr_model.coefficientMatrix\n",
    "intercept = lr_model.interceptVector\n",
    "print(f\"Coefficients: {coefficients}\")\n",
    "print(f\"Intercept: {intercept}\")"
   ]
  },
  {
   "cell_type": "code",
   "execution_count": 41,
   "id": "e51b2793-848e-4dd7-afcc-62669c17caa5",
   "metadata": {},
   "outputs": [
    {
     "data": {
      "text/plain": [
       "(3, 10)"
      ]
     },
     "execution_count": 41,
     "metadata": {},
     "output_type": "execute_result"
    }
   ],
   "source": [
    "# shape = num_classes x num_features\n",
    "np.array(coefficients.toArray().tolist()).shape"
   ]
  },
  {
   "cell_type": "code",
   "execution_count": 42,
   "id": "422423dc-197b-4ea2-9d14-42529b5aaba6",
   "metadata": {},
   "outputs": [
    {
     "name": "stdout",
     "output_type": "stream",
     "text": [
      "0 color_vec_green\n",
      "1 color_vec_blue\n",
      "2 type_vec_SUV\n",
      "3 type_vec_sedan\n",
      "4 hour_vec_12\n",
      "5 hour_vec_20\n",
      "6 hour_vec_5\n",
      "7 hour_vec_9\n",
      "8 milesperhour\n",
      "9 age\n"
     ]
    },
    {
     "data": {
      "text/html": [
       "<div>\n",
       "<style scoped>\n",
       "    .dataframe tbody tr th:only-of-type {\n",
       "        vertical-align: middle;\n",
       "    }\n",
       "\n",
       "    .dataframe tbody tr th {\n",
       "        vertical-align: top;\n",
       "    }\n",
       "\n",
       "    .dataframe thead th {\n",
       "        text-align: right;\n",
       "    }\n",
       "</style>\n",
       "<table border=\"1\" class=\"dataframe\">\n",
       "  <thead>\n",
       "    <tr style=\"text-align: right;\">\n",
       "      <th></th>\n",
       "      <th>label</th>\n",
       "      <th>color_vec_green</th>\n",
       "      <th>color_vec_blue</th>\n",
       "      <th>type_vec_SUV</th>\n",
       "      <th>type_vec_sedan</th>\n",
       "      <th>hour_vec_12</th>\n",
       "      <th>hour_vec_20</th>\n",
       "      <th>hour_vec_5</th>\n",
       "      <th>hour_vec_9</th>\n",
       "      <th>milesperhour</th>\n",
       "      <th>age</th>\n",
       "    </tr>\n",
       "  </thead>\n",
       "  <tbody>\n",
       "    <tr>\n",
       "      <th>0</th>\n",
       "      <td>class1</td>\n",
       "      <td>-16.506593</td>\n",
       "      <td>2.256804</td>\n",
       "      <td>2.783472</td>\n",
       "      <td>3.088843</td>\n",
       "      <td>6.341293</td>\n",
       "      <td>13.679938</td>\n",
       "      <td>6.816004</td>\n",
       "      <td>-11.049060</td>\n",
       "      <td>4.680603</td>\n",
       "      <td>-22.540014</td>\n",
       "    </tr>\n",
       "    <tr>\n",
       "      <th>1</th>\n",
       "      <td>class2</td>\n",
       "      <td>1.956677</td>\n",
       "      <td>-7.680942</td>\n",
       "      <td>5.003406</td>\n",
       "      <td>-2.061134</td>\n",
       "      <td>-13.119283</td>\n",
       "      <td>-4.422404</td>\n",
       "      <td>10.839100</td>\n",
       "      <td>19.374517</td>\n",
       "      <td>-10.580025</td>\n",
       "      <td>2.605109</td>\n",
       "    </tr>\n",
       "    <tr>\n",
       "      <th>2</th>\n",
       "      <td>class3</td>\n",
       "      <td>14.549916</td>\n",
       "      <td>5.424138</td>\n",
       "      <td>-7.786878</td>\n",
       "      <td>-1.027709</td>\n",
       "      <td>6.777991</td>\n",
       "      <td>-9.257534</td>\n",
       "      <td>-17.655104</td>\n",
       "      <td>-8.325457</td>\n",
       "      <td>5.899422</td>\n",
       "      <td>19.934905</td>\n",
       "    </tr>\n",
       "  </tbody>\n",
       "</table>\n",
       "</div>"
      ],
      "text/plain": [
       "    label  color_vec_green  color_vec_blue  type_vec_SUV  type_vec_sedan  \\\n",
       "0  class1       -16.506593        2.256804      2.783472        3.088843   \n",
       "1  class2         1.956677       -7.680942      5.003406       -2.061134   \n",
       "2  class3        14.549916        5.424138     -7.786878       -1.027709   \n",
       "\n",
       "   hour_vec_12  hour_vec_20  hour_vec_5  hour_vec_9  milesperhour        age  \n",
       "0     6.341293    13.679938    6.816004  -11.049060      4.680603 -22.540014  \n",
       "1   -13.119283    -4.422404   10.839100   19.374517    -10.580025   2.605109  \n",
       "2     6.777991    -9.257534  -17.655104   -8.325457      5.899422  19.934905  "
      ]
     },
     "execution_count": 42,
     "metadata": {},
     "output_type": "execute_result"
    }
   ],
   "source": [
    "coef_df = pd.DataFrame(\n",
    "    np.array(coefficients.toArray().tolist()),\n",
    "    columns=get_features(transformed_train_data_lr_nb)\n",
    ")\n",
    "\n",
    "# map label_index to label\n",
    "coef_df['label'] = loaded_model.stages[0].labels\n",
    "coef_df[['label'] + list(coef_df.columns)[:-1]]"
   ]
  },
  {
   "cell_type": "code",
   "execution_count": 43,
   "id": "b55fe0b2-484e-41ed-922e-4cad1405d079",
   "metadata": {},
   "outputs": [
    {
     "data": {
      "text/html": [
       "<div>\n",
       "<style scoped>\n",
       "    .dataframe tbody tr th:only-of-type {\n",
       "        vertical-align: middle;\n",
       "    }\n",
       "\n",
       "    .dataframe tbody tr th {\n",
       "        vertical-align: top;\n",
       "    }\n",
       "\n",
       "    .dataframe thead th {\n",
       "        text-align: right;\n",
       "    }\n",
       "</style>\n",
       "<table border=\"1\" class=\"dataframe\">\n",
       "  <thead>\n",
       "    <tr style=\"text-align: right;\">\n",
       "      <th></th>\n",
       "      <th>label</th>\n",
       "      <th>feature</th>\n",
       "      <th>coefficient</th>\n",
       "    </tr>\n",
       "  </thead>\n",
       "  <tbody>\n",
       "    <tr>\n",
       "      <th>30</th>\n",
       "      <td>class1</td>\n",
       "      <td>age</td>\n",
       "      <td>-22.540014</td>\n",
       "    </tr>\n",
       "    <tr>\n",
       "      <th>6</th>\n",
       "      <td>class1</td>\n",
       "      <td>color_vec_blue</td>\n",
       "      <td>2.256804</td>\n",
       "    </tr>\n",
       "    <tr>\n",
       "      <th>3</th>\n",
       "      <td>class1</td>\n",
       "      <td>color_vec_green</td>\n",
       "      <td>-16.506593</td>\n",
       "    </tr>\n",
       "    <tr>\n",
       "      <th>15</th>\n",
       "      <td>class1</td>\n",
       "      <td>hour_vec_12</td>\n",
       "      <td>6.341293</td>\n",
       "    </tr>\n",
       "    <tr>\n",
       "      <th>18</th>\n",
       "      <td>class1</td>\n",
       "      <td>hour_vec_20</td>\n",
       "      <td>13.679938</td>\n",
       "    </tr>\n",
       "    <tr>\n",
       "      <th>21</th>\n",
       "      <td>class1</td>\n",
       "      <td>hour_vec_5</td>\n",
       "      <td>6.816004</td>\n",
       "    </tr>\n",
       "    <tr>\n",
       "      <th>24</th>\n",
       "      <td>class1</td>\n",
       "      <td>hour_vec_9</td>\n",
       "      <td>-11.049060</td>\n",
       "    </tr>\n",
       "    <tr>\n",
       "      <th>0</th>\n",
       "      <td>class1</td>\n",
       "      <td>index</td>\n",
       "      <td>0.000000</td>\n",
       "    </tr>\n",
       "    <tr>\n",
       "      <th>27</th>\n",
       "      <td>class1</td>\n",
       "      <td>milesperhour</td>\n",
       "      <td>4.680603</td>\n",
       "    </tr>\n",
       "    <tr>\n",
       "      <th>9</th>\n",
       "      <td>class1</td>\n",
       "      <td>type_vec_SUV</td>\n",
       "      <td>2.783472</td>\n",
       "    </tr>\n",
       "    <tr>\n",
       "      <th>12</th>\n",
       "      <td>class1</td>\n",
       "      <td>type_vec_sedan</td>\n",
       "      <td>3.088843</td>\n",
       "    </tr>\n",
       "    <tr>\n",
       "      <th>31</th>\n",
       "      <td>class2</td>\n",
       "      <td>age</td>\n",
       "      <td>2.605109</td>\n",
       "    </tr>\n",
       "    <tr>\n",
       "      <th>7</th>\n",
       "      <td>class2</td>\n",
       "      <td>color_vec_blue</td>\n",
       "      <td>-7.680942</td>\n",
       "    </tr>\n",
       "    <tr>\n",
       "      <th>4</th>\n",
       "      <td>class2</td>\n",
       "      <td>color_vec_green</td>\n",
       "      <td>1.956677</td>\n",
       "    </tr>\n",
       "    <tr>\n",
       "      <th>16</th>\n",
       "      <td>class2</td>\n",
       "      <td>hour_vec_12</td>\n",
       "      <td>-13.119283</td>\n",
       "    </tr>\n",
       "    <tr>\n",
       "      <th>19</th>\n",
       "      <td>class2</td>\n",
       "      <td>hour_vec_20</td>\n",
       "      <td>-4.422404</td>\n",
       "    </tr>\n",
       "    <tr>\n",
       "      <th>22</th>\n",
       "      <td>class2</td>\n",
       "      <td>hour_vec_5</td>\n",
       "      <td>10.839100</td>\n",
       "    </tr>\n",
       "    <tr>\n",
       "      <th>25</th>\n",
       "      <td>class2</td>\n",
       "      <td>hour_vec_9</td>\n",
       "      <td>19.374517</td>\n",
       "    </tr>\n",
       "    <tr>\n",
       "      <th>1</th>\n",
       "      <td>class2</td>\n",
       "      <td>index</td>\n",
       "      <td>1.000000</td>\n",
       "    </tr>\n",
       "    <tr>\n",
       "      <th>28</th>\n",
       "      <td>class2</td>\n",
       "      <td>milesperhour</td>\n",
       "      <td>-10.580025</td>\n",
       "    </tr>\n",
       "    <tr>\n",
       "      <th>10</th>\n",
       "      <td>class2</td>\n",
       "      <td>type_vec_SUV</td>\n",
       "      <td>5.003406</td>\n",
       "    </tr>\n",
       "    <tr>\n",
       "      <th>13</th>\n",
       "      <td>class2</td>\n",
       "      <td>type_vec_sedan</td>\n",
       "      <td>-2.061134</td>\n",
       "    </tr>\n",
       "    <tr>\n",
       "      <th>32</th>\n",
       "      <td>class3</td>\n",
       "      <td>age</td>\n",
       "      <td>19.934905</td>\n",
       "    </tr>\n",
       "    <tr>\n",
       "      <th>8</th>\n",
       "      <td>class3</td>\n",
       "      <td>color_vec_blue</td>\n",
       "      <td>5.424138</td>\n",
       "    </tr>\n",
       "    <tr>\n",
       "      <th>5</th>\n",
       "      <td>class3</td>\n",
       "      <td>color_vec_green</td>\n",
       "      <td>14.549916</td>\n",
       "    </tr>\n",
       "    <tr>\n",
       "      <th>17</th>\n",
       "      <td>class3</td>\n",
       "      <td>hour_vec_12</td>\n",
       "      <td>6.777991</td>\n",
       "    </tr>\n",
       "    <tr>\n",
       "      <th>20</th>\n",
       "      <td>class3</td>\n",
       "      <td>hour_vec_20</td>\n",
       "      <td>-9.257534</td>\n",
       "    </tr>\n",
       "    <tr>\n",
       "      <th>23</th>\n",
       "      <td>class3</td>\n",
       "      <td>hour_vec_5</td>\n",
       "      <td>-17.655104</td>\n",
       "    </tr>\n",
       "    <tr>\n",
       "      <th>26</th>\n",
       "      <td>class3</td>\n",
       "      <td>hour_vec_9</td>\n",
       "      <td>-8.325457</td>\n",
       "    </tr>\n",
       "    <tr>\n",
       "      <th>2</th>\n",
       "      <td>class3</td>\n",
       "      <td>index</td>\n",
       "      <td>2.000000</td>\n",
       "    </tr>\n",
       "    <tr>\n",
       "      <th>29</th>\n",
       "      <td>class3</td>\n",
       "      <td>milesperhour</td>\n",
       "      <td>5.899422</td>\n",
       "    </tr>\n",
       "    <tr>\n",
       "      <th>11</th>\n",
       "      <td>class3</td>\n",
       "      <td>type_vec_SUV</td>\n",
       "      <td>-7.786878</td>\n",
       "    </tr>\n",
       "    <tr>\n",
       "      <th>14</th>\n",
       "      <td>class3</td>\n",
       "      <td>type_vec_sedan</td>\n",
       "      <td>-1.027709</td>\n",
       "    </tr>\n",
       "  </tbody>\n",
       "</table>\n",
       "</div>"
      ],
      "text/plain": [
       "     label          feature  coefficient\n",
       "30  class1              age   -22.540014\n",
       "6   class1   color_vec_blue     2.256804\n",
       "3   class1  color_vec_green   -16.506593\n",
       "15  class1      hour_vec_12     6.341293\n",
       "18  class1      hour_vec_20    13.679938\n",
       "21  class1       hour_vec_5     6.816004\n",
       "24  class1       hour_vec_9   -11.049060\n",
       "0   class1            index     0.000000\n",
       "27  class1     milesperhour     4.680603\n",
       "9   class1     type_vec_SUV     2.783472\n",
       "12  class1   type_vec_sedan     3.088843\n",
       "31  class2              age     2.605109\n",
       "7   class2   color_vec_blue    -7.680942\n",
       "4   class2  color_vec_green     1.956677\n",
       "16  class2      hour_vec_12   -13.119283\n",
       "19  class2      hour_vec_20    -4.422404\n",
       "22  class2       hour_vec_5    10.839100\n",
       "25  class2       hour_vec_9    19.374517\n",
       "1   class2            index     1.000000\n",
       "28  class2     milesperhour   -10.580025\n",
       "10  class2     type_vec_SUV     5.003406\n",
       "13  class2   type_vec_sedan    -2.061134\n",
       "32  class3              age    19.934905\n",
       "8   class3   color_vec_blue     5.424138\n",
       "5   class3  color_vec_green    14.549916\n",
       "17  class3      hour_vec_12     6.777991\n",
       "20  class3      hour_vec_20    -9.257534\n",
       "23  class3       hour_vec_5   -17.655104\n",
       "26  class3       hour_vec_9    -8.325457\n",
       "2   class3            index     2.000000\n",
       "29  class3     milesperhour     5.899422\n",
       "11  class3     type_vec_SUV    -7.786878\n",
       "14  class3   type_vec_sedan    -1.027709"
      ]
     },
     "execution_count": 43,
     "metadata": {},
     "output_type": "execute_result"
    }
   ],
   "source": [
    "coef_df2 = coef_df.reset_index().melt(id_vars=['label'], var_name='feature', value_name='coefficient')\n",
    "coef_df2[['label', 'feature', 'coefficient']].sort_values(by=['label', 'feature'])"
   ]
  },
  {
   "cell_type": "markdown",
   "id": "abef4f13-b7e8-4170-b9d1-b003c1db594a",
   "metadata": {},
   "source": [
    "# Random forest"
   ]
  },
  {
   "cell_type": "markdown",
   "id": "7adcc3c8-6f05-41e8-8ad8-145e5b75b3db",
   "metadata": {},
   "source": [
    "## save and load data"
   ]
  },
  {
   "cell_type": "code",
   "execution_count": 44,
   "id": "ddf93b27-fe3e-46d4-9319-911a4f23554d",
   "metadata": {},
   "outputs": [],
   "source": [
    "# save to local\n",
    "data_path = \"data/transformed_train_data_tree/\"\n",
    "\n",
    "# save to s3\n",
    "# data_path = \"s3a://test-thama-misc-20210612/20240717-sparkml/data/transformed_train_data_tree/\"\n",
    "\n",
    "transformed_train_data_tree.write.partitionBy(\"date\", \"geohash\").mode('overwrite').save(data_path)"
   ]
  },
  {
   "cell_type": "code",
   "execution_count": 45,
   "id": "822d8429-db42-4e16-9ea6-24746c84d740",
   "metadata": {},
   "outputs": [],
   "source": [
    "# load\n",
    "transformed_train_data_tree_loaded = spark.read.load(data_path)"
   ]
  },
  {
   "cell_type": "markdown",
   "id": "f2f1748c-58c8-407c-be71-27e7898889ae",
   "metadata": {},
   "source": [
    "## save and load pipeline"
   ]
  },
  {
   "cell_type": "code",
   "execution_count": 46,
   "id": "b4c16263-cd80-4130-b758-fc9c2e026e7b",
   "metadata": {},
   "outputs": [],
   "source": [
    "# save to local\n",
    "pipeline_model_path = \"pipelines/model_tree\"\n",
    "\n",
    "# save to s3\n",
    "# pipeline_model_path = \"s3a://test-thama-misc-20210612/20240717-sparkml/pipelines/model_tree\"\n",
    "\n",
    "model_tree.write().overwrite().save(pipeline_model_path)"
   ]
  },
  {
   "cell_type": "code",
   "execution_count": 47,
   "id": "aa44a5e6-2e5b-4ad5-8084-22eb26a24d61",
   "metadata": {},
   "outputs": [],
   "source": [
    "# load pipeline\n",
    "loaded_model = PipelineModel.load(pipeline_model_path)"
   ]
  },
  {
   "cell_type": "markdown",
   "id": "9a441659-18ae-4a43-a0ce-c68dc2c9d5df",
   "metadata": {},
   "source": [
    "## create model"
   ]
  },
  {
   "cell_type": "code",
   "execution_count": 48,
   "id": "04d809de-ac10-4f03-9f1b-12945e87bf17",
   "metadata": {},
   "outputs": [
    {
     "name": "stderr",
     "output_type": "stream",
     "text": [
      "24/07/19 08:00:30 WARN DecisionTreeMetadata: DecisionTree reducing maxBins from 32 to 9 (= number of training instances)\n"
     ]
    }
   ],
   "source": [
    "# Training the Random Forest Classifier\n",
    "rf = RandomForestClassifier(featuresCol=\"features\", labelCol=\"label_index\")\n",
    "rf_model = rf.fit(transformed_train_data_tree)"
   ]
  },
  {
   "cell_type": "markdown",
   "id": "e41ff62b-afca-4de5-a86d-1cb63ef92f4e",
   "metadata": {},
   "source": [
    "## save and load model"
   ]
  },
  {
   "cell_type": "code",
   "execution_count": 49,
   "id": "7dcc396e-3531-45b9-8f18-69803aa7f4c4",
   "metadata": {},
   "outputs": [],
   "source": [
    "# save to local\n",
    "model_path = \"models/rf_model/\"\n",
    "\n",
    "# save to s3\n",
    "# model_path = \"s3a://test-thama-misc-20210612/20240717-sparkml/models/rf_model/\"\n",
    "\n",
    "rf_model.write().overwrite().save(model_path)"
   ]
  },
  {
   "cell_type": "code",
   "execution_count": 50,
   "id": "5fb66297-ccbf-4048-8ac3-9fd75d9d7cc6",
   "metadata": {},
   "outputs": [
    {
     "name": "stderr",
     "output_type": "stream",
     "text": [
      "WARNING: An illegal reflective access operation has occurred\n",
      "WARNING: Illegal reflective access by org.apache.spark.util.SizeEstimator$ (file:/Users/thama/ghq/github.com/mathmathpp2/synapselightgbm_trial/synapse-test/.venv/lib/python3.11/site-packages/pyspark/jars/spark-core_2.12-3.4.3.jar) to field java.math.BigInteger.mag\n",
      "WARNING: Please consider reporting this to the maintainers of org.apache.spark.util.SizeEstimator$\n",
      "WARNING: Use --illegal-access=warn to enable warnings of further illegal reflective access operations\n",
      "WARNING: All illegal access operations will be denied in a future release\n"
     ]
    }
   ],
   "source": [
    "# load model\n",
    "rf_model = RandomForestClassificationModel.load(model_path)"
   ]
  },
  {
   "cell_type": "markdown",
   "id": "75b6d98b-ff38-470c-abbe-a69f19debc82",
   "metadata": {},
   "source": [
    "## interpret model"
   ]
  },
  {
   "cell_type": "code",
   "execution_count": 51,
   "id": "d787dddf-49b5-472d-ad56-b09920cd23e4",
   "metadata": {},
   "outputs": [],
   "source": [
    "# Get feature importances for Random Forest\n",
    "rf_feature_importances = rf_model.featureImportances.toArray()\n",
    "features_importances_rf = [(assembler_tree.getInputCols()[i], float(rf_feature_importances[i])) for i in range(len(rf_feature_importances))]\n",
    "importances_df_rf = pd.DataFrame(features_importances_rf, columns=[\"Feature\", \"Importance\"]).sort_values(by='Importance', ascending=False)"
   ]
  },
  {
   "cell_type": "code",
   "execution_count": 52,
   "id": "9a38850c-d279-4abe-b2e9-2ebb8cf70227",
   "metadata": {},
   "outputs": [
    {
     "data": {
      "text/html": [
       "<div>\n",
       "<style scoped>\n",
       "    .dataframe tbody tr th:only-of-type {\n",
       "        vertical-align: middle;\n",
       "    }\n",
       "\n",
       "    .dataframe tbody tr th {\n",
       "        vertical-align: top;\n",
       "    }\n",
       "\n",
       "    .dataframe thead th {\n",
       "        text-align: right;\n",
       "    }\n",
       "</style>\n",
       "<table border=\"1\" class=\"dataframe\">\n",
       "  <thead>\n",
       "    <tr style=\"text-align: right;\">\n",
       "      <th></th>\n",
       "      <th>Feature</th>\n",
       "      <th>Importance</th>\n",
       "    </tr>\n",
       "  </thead>\n",
       "  <tbody>\n",
       "    <tr>\n",
       "      <th>0</th>\n",
       "      <td>color_index</td>\n",
       "      <td>0.301543</td>\n",
       "    </tr>\n",
       "    <tr>\n",
       "      <th>3</th>\n",
       "      <td>milesperhour</td>\n",
       "      <td>0.298617</td>\n",
       "    </tr>\n",
       "    <tr>\n",
       "      <th>2</th>\n",
       "      <td>hour_index</td>\n",
       "      <td>0.258801</td>\n",
       "    </tr>\n",
       "    <tr>\n",
       "      <th>1</th>\n",
       "      <td>type_index</td>\n",
       "      <td>0.075918</td>\n",
       "    </tr>\n",
       "    <tr>\n",
       "      <th>4</th>\n",
       "      <td>age</td>\n",
       "      <td>0.065121</td>\n",
       "    </tr>\n",
       "  </tbody>\n",
       "</table>\n",
       "</div>"
      ],
      "text/plain": [
       "        Feature  Importance\n",
       "0   color_index    0.301543\n",
       "3  milesperhour    0.298617\n",
       "2    hour_index    0.258801\n",
       "1    type_index    0.075918\n",
       "4           age    0.065121"
      ]
     },
     "execution_count": 52,
     "metadata": {},
     "output_type": "execute_result"
    }
   ],
   "source": [
    "importances_df_rf"
   ]
  },
  {
   "cell_type": "code",
   "execution_count": null,
   "id": "dbd6e3ac-b053-4ed3-8f5b-6e4d1968c9be",
   "metadata": {},
   "outputs": [],
   "source": []
  }
 ],
 "metadata": {
  "kernelspec": {
   "display_name": "Python 3 (ipykernel)",
   "language": "python",
   "name": "python3"
  },
  "language_info": {
   "codemirror_mode": {
    "name": "ipython",
    "version": 3
   },
   "file_extension": ".py",
   "mimetype": "text/x-python",
   "name": "python",
   "nbconvert_exporter": "python",
   "pygments_lexer": "ipython3",
   "version": "3.11.7"
  }
 },
 "nbformat": 4,
 "nbformat_minor": 5
}
