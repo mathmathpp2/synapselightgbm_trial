{
 "cells": [
  {
   "cell_type": "code",
   "execution_count": 98,
   "id": "d3dcc5f9-8330-4cb4-9d08-3d8dbe0d7937",
   "metadata": {},
   "outputs": [],
   "source": [
    "import pandas as pd\n",
    "import numpy as np\n",
    "import random\n",
    "import string\n",
    "from datetime import datetime, timedelta\n",
    "\n",
    "import pyspark.sql.functions as  F\n",
    "from pyspark.sql.functions import coalesce, lit, rand, when, col\n",
    "from pyspark.sql.types import *\n",
    "from pyspark.ml.feature import StringIndexer, OneHotEncoder, VectorAssembler, MinMaxScaler\n",
    "from pyspark.ml import Pipeline, PipelineModel\n",
    "from pyspark.ml.classification import LogisticRegression, RandomForestClassifier, GBTClassifier, NaiveBayes\n",
    "from pyspark.ml.evaluation import MulticlassClassificationEvaluator\n",
    "from pyspark.ml.classification import LogisticRegressionModel, RandomForestClassificationModel\n",
    "from pyspark.sql import SparkSession\n",
    "from pyspark import SparkConf, SparkContext\n",
    "\n",
    "from numpy import allclose\n",
    "from pyspark.ml.linalg import Vectors\n",
    "from pyspark.ml.feature import StringIndexer\n",
    "from pyspark.ml.classification import GBTClassificationModel\n",
    "\n",
    "import shap"
   ]
  },
  {
   "cell_type": "code",
   "execution_count": 2,
   "id": "d1e5dd4c-90b1-41fe-86be-7b077a445c23",
   "metadata": {},
   "outputs": [
    {
     "name": "stderr",
     "output_type": "stream",
     "text": [
      "24/07/23 19:09:41 WARN Utils: Your hostname, thamaMBP.local resolves to a loopback address: 127.0.0.1; using 172.20.10.5 instead (on interface en0)\n",
      "24/07/23 19:09:41 WARN Utils: Set SPARK_LOCAL_IP if you need to bind to another address\n"
     ]
    },
    {
     "name": "stdout",
     "output_type": "stream",
     "text": [
      ":: loading settings :: url = jar:file:/Users/thama/ghq/github.com/mathmathpp2/synapselightgbm_trial/synapse-test/.venv/lib/python3.11/site-packages/pyspark/jars/ivy-2.5.1.jar!/org/apache/ivy/core/settings/ivysettings.xml\n"
     ]
    },
    {
     "name": "stderr",
     "output_type": "stream",
     "text": [
      "Ivy Default Cache set to: /Users/thama/.ivy2/cache\n",
      "The jars for the packages stored in: /Users/thama/.ivy2/jars\n",
      "org.apache.hadoop#hadoop-aws added as a dependency\n",
      "org.apache.hadoop#hadoop-client-api added as a dependency\n",
      "org.apache.hadoop#hadoop-client-runtime added as a dependency\n",
      ":: resolving dependencies :: org.apache.spark#spark-submit-parent-3f180236-ad4f-4bd7-ad18-d7793395de46;1.0\n",
      "\tconfs: [default]\n",
      "\tfound org.apache.hadoop#hadoop-aws;3.3.4 in central\n",
      "\tfound com.amazonaws#aws-java-sdk-bundle;1.12.262 in central\n",
      "\tfound org.wildfly.openssl#wildfly-openssl;1.0.7.Final in central\n",
      "\tfound org.apache.hadoop#hadoop-client-api;3.3.4 in central\n",
      "\tfound org.xerial.snappy#snappy-java;1.1.8.2 in central\n",
      "\tfound org.apache.hadoop#hadoop-client-runtime;3.3.4 in central\n",
      "\tfound org.slf4j#slf4j-api;1.7.36 in central\n",
      "\tfound commons-logging#commons-logging;1.1.3 in central\n",
      "\tfound com.google.code.findbugs#jsr305;3.0.2 in local-m2-cache\n",
      ":: resolution report :: resolve 463ms :: artifacts dl 25ms\n",
      "\t:: modules in use:\n",
      "\tcom.amazonaws#aws-java-sdk-bundle;1.12.262 from central in [default]\n",
      "\tcom.google.code.findbugs#jsr305;3.0.2 from local-m2-cache in [default]\n",
      "\tcommons-logging#commons-logging;1.1.3 from central in [default]\n",
      "\torg.apache.hadoop#hadoop-aws;3.3.4 from central in [default]\n",
      "\torg.apache.hadoop#hadoop-client-api;3.3.4 from central in [default]\n",
      "\torg.apache.hadoop#hadoop-client-runtime;3.3.4 from central in [default]\n",
      "\torg.slf4j#slf4j-api;1.7.36 from central in [default]\n",
      "\torg.wildfly.openssl#wildfly-openssl;1.0.7.Final from central in [default]\n",
      "\torg.xerial.snappy#snappy-java;1.1.8.2 from central in [default]\n",
      "\t---------------------------------------------------------------------\n",
      "\t|                  |            modules            ||   artifacts   |\n",
      "\t|       conf       | number| search|dwnlded|evicted|| number|dwnlded|\n",
      "\t---------------------------------------------------------------------\n",
      "\t|      default     |   9   |   0   |   0   |   0   ||   9   |   0   |\n",
      "\t---------------------------------------------------------------------\n",
      ":: retrieving :: org.apache.spark#spark-submit-parent-3f180236-ad4f-4bd7-ad18-d7793395de46\n",
      "\tconfs: [default]\n",
      "\t0 artifacts copied, 9 already retrieved (0kB/9ms)\n",
      "24/07/23 19:09:42 WARN NativeCodeLoader: Unable to load native-hadoop library for your platform... using builtin-java classes where applicable\n",
      "Setting default log level to \"WARN\".\n",
      "To adjust logging level use sc.setLogLevel(newLevel). For SparkR, use setLogLevel(newLevel).\n"
     ]
    }
   ],
   "source": [
    "packages = [\n",
    "    'org.apache.hadoop:hadoop-aws:3.3.4',\n",
    "    'org.apache.hadoop:hadoop-client-api:3.3.4',\n",
    "    'org.apache.hadoop:hadoop-client-runtime:3.3.4',\n",
    "]\n",
    "\n",
    "conf = SparkConf() \\\n",
    "    .setAppName(\"MyApp\") \\\n",
    "    .set(\"spark.driver.memory\", \"8g\") \\\n",
    "    .set(\"spark.executor.memory\", \"8g\") \\\n",
    "    .set('spark.jars.packages', ','.join(packages))\n",
    "\n",
    "sc = SparkContext(conf=conf)\n",
    "\n",
    "hadoop_config = sc._jsc.hadoopConfiguration()\n",
    "hadoop_config.set('fs.s3a.impl', 'org.apache.hadoop.fs.s3a.S3AFileSystem')\n",
    "hadoop_config.set('com.amazonaws.services.s3.enableV4', 'true')\n",
    "\n",
    "spark = SparkSession(sc)"
   ]
  },
  {
   "cell_type": "code",
   "execution_count": 64,
   "id": "fc37b7bd-c29f-44da-9a55-cd3b35172bc1",
   "metadata": {},
   "outputs": [],
   "source": [
    "schema = StructType([\n",
    "    StructField(\"sepal_length\", FloatType(), True),\n",
    "    StructField(\"sepal_width\", FloatType(), True),\n",
    "    StructField(\"petal_length\", FloatType(), True),\n",
    "    StructField(\"petal_width\", FloatType(), True),\n",
    "    StructField(\"species\", StringType(), True)\n",
    "])\n",
    "\n",
    "data = spark.read.csv(\"iris.csv\", header=True, schema=schema)"
   ]
  },
  {
   "cell_type": "code",
   "execution_count": 65,
   "id": "267098fa-a3b2-4728-a307-bf4dbbdc4800",
   "metadata": {},
   "outputs": [],
   "source": [
    "data = data.withColumnRenamed(\"species\", \"label\")"
   ]
  },
  {
   "cell_type": "code",
   "execution_count": 66,
   "id": "5e5e8d15-e323-4f39-9252-0160585ea785",
   "metadata": {},
   "outputs": [
    {
     "name": "stdout",
     "output_type": "stream",
     "text": [
      "+------------+-----------+------------+-----------+------+\n",
      "|sepal_length|sepal_width|petal_length|petal_width| label|\n",
      "+------------+-----------+------------+-----------+------+\n",
      "|         5.1|        3.5|         1.4|        0.2|setosa|\n",
      "|         4.9|        3.0|         1.4|        0.2|setosa|\n",
      "|         4.7|        3.2|         1.3|        0.2|setosa|\n",
      "|         4.6|        3.1|         1.5|        0.2|setosa|\n",
      "|         5.0|        3.6|         1.4|        0.2|setosa|\n",
      "+------------+-----------+------------+-----------+------+\n",
      "only showing top 5 rows\n",
      "\n"
     ]
    }
   ],
   "source": [
    "data.show(5)"
   ]
  },
  {
   "cell_type": "code",
   "execution_count": 79,
   "id": "ee001095-8322-483d-822d-00ab6fbf788c",
   "metadata": {},
   "outputs": [
    {
     "name": "stdout",
     "output_type": "stream",
     "text": [
      "+----------+\n",
      "|     label|\n",
      "+----------+\n",
      "| virginica|\n",
      "|versicolor|\n",
      "|    setosa|\n",
      "+----------+\n",
      "\n"
     ]
    }
   ],
   "source": [
    "data.select(\"label\").distinct().show()"
   ]
  },
  {
   "cell_type": "code",
   "execution_count": 88,
   "id": "49ef38a7-04ab-43a1-b920-441c0a4dfeed",
   "metadata": {},
   "outputs": [],
   "source": [
    "data = data \\\n",
    "    .withColumn(\"label_virginica\", when(data.label == \"virginica\", 1).otherwise(0)) \\\n",
    "    .withColumn(\"label_versicolor\", when(data.label == \"versicolor\", 1).otherwise(0)) \\\n",
    "    .withColumn(\"label_setosa\", when(data.label == \"setosa\", 1).otherwise(0))"
   ]
  },
  {
   "cell_type": "code",
   "execution_count": 89,
   "id": "1263897c-0061-4675-9391-238d313372a6",
   "metadata": {},
   "outputs": [
    {
     "name": "stdout",
     "output_type": "stream",
     "text": [
      "+------------+-----------+------------+-----------+------+---------------+----------------+------------+\n",
      "|sepal_length|sepal_width|petal_length|petal_width| label|label_virginica|label_versicolor|label_setosa|\n",
      "+------------+-----------+------------+-----------+------+---------------+----------------+------------+\n",
      "|         5.1|        3.5|         1.4|        0.2|setosa|              0|               0|           1|\n",
      "|         4.9|        3.0|         1.4|        0.2|setosa|              0|               0|           1|\n",
      "|         4.7|        3.2|         1.3|        0.2|setosa|              0|               0|           1|\n",
      "|         4.6|        3.1|         1.5|        0.2|setosa|              0|               0|           1|\n",
      "|         5.0|        3.6|         1.4|        0.2|setosa|              0|               0|           1|\n",
      "+------------+-----------+------------+-----------+------+---------------+----------------+------------+\n",
      "only showing top 5 rows\n",
      "\n"
     ]
    }
   ],
   "source": [
    "data.show(5)"
   ]
  },
  {
   "cell_type": "code",
   "execution_count": 90,
   "id": "36020fed-ff1c-4fe8-be03-d6b3a4a2881a",
   "metadata": {},
   "outputs": [
    {
     "data": {
      "text/plain": [
       "['label_virginica', 'label_versicolor', 'label_setosa']"
      ]
     },
     "execution_count": 90,
     "metadata": {},
     "output_type": "execute_result"
    }
   ],
   "source": [
    "label_columns = [col for col in data.columns if col.startswith(\"label_\")]\n",
    "label_columns"
   ]
  },
  {
   "cell_type": "code",
   "execution_count": 91,
   "id": "e31af758-bed5-47c6-878b-3f6586c8b629",
   "metadata": {},
   "outputs": [],
   "source": [
    "# Split the data into training and test sets (80% training, 20% test)\n",
    "train_data, test_data = data.randomSplit([0.8, 0.2], seed=1234)\n",
    "\n",
    "# Assembling Features for Tree-Based Models\n",
    "assembler_tree = VectorAssembler(\n",
    "    inputCols=[\"sepal_length\", \"sepal_width\", \"petal_length\", \"petal_width\"],\n",
    "    outputCol=\"features\"\n",
    ")\n",
    "\n",
    "# Create and Fit the Pipeline for Tree-Based Models\n",
    "pipeline_tree = Pipeline(stages=[assembler_tree])\n",
    "model_tree = pipeline_tree.fit(train_data)\n",
    "transformed_train_data_tree = model_tree.transform(train_data)\n",
    "transformed_test_data_tree = model_tree.transform(test_data)"
   ]
  },
  {
   "cell_type": "code",
   "execution_count": 94,
   "id": "ffef7abd-61ae-4c97-946f-7979fdabe7dd",
   "metadata": {},
   "outputs": [],
   "source": [
    "label_column = \"label_virginica\"\n",
    "# Training the GBT Classifier\n",
    "gbt = GBTClassifier(featuresCol=\"features\", labelCol=label_column)\n",
    "gbt_model = gbt.fit(transformed_train_data_tree)"
   ]
  },
  {
   "cell_type": "code",
   "execution_count": 95,
   "id": "6dbda27c-78e3-4f32-aef2-207392f6caf4",
   "metadata": {},
   "outputs": [],
   "source": [
    "# Initialize evaluators for all models\n",
    "evaluator_accuracy = MulticlassClassificationEvaluator(predictionCol=\"prediction\", labelCol=label_column, metricName=\"accuracy\")\n",
    "evaluator_precision = MulticlassClassificationEvaluator(predictionCol=\"prediction\", labelCol=label_column, metricName=\"weightedPrecision\")\n",
    "evaluator_recall = MulticlassClassificationEvaluator(predictionCol=\"prediction\", labelCol=label_column, metricName=\"weightedRecall\")\n",
    "evaluator_f1 = MulticlassClassificationEvaluator(predictionCol=\"prediction\", labelCol=label_column, metricName=\"f1\")"
   ]
  },
  {
   "cell_type": "code",
   "execution_count": 96,
   "id": "34556059-9610-4b71-8e3a-6f85280078f9",
   "metadata": {},
   "outputs": [
    {
     "name": "stderr",
     "output_type": "stream",
     "text": [
      "24/07/23 23:57:14 WARN InstanceBuilder: Failed to load implementation from:dev.ludovic.netlib.blas.JNIBLAS\n"
     ]
    },
    {
     "name": "stdout",
     "output_type": "stream",
     "text": [
      "GBT Classifier Accuracy: 0.972972972972973\n",
      "GBT Classifier Precision: 0.9739739739739739\n",
      "GBT Classifier Recall: 0.972972972972973\n",
      "GBT Classifier F1 Score: 0.9725844442825575\n"
     ]
    }
   ],
   "source": [
    "# Evaluating the GBT Classifier\n",
    "gbt_predictions = gbt_model.transform(transformed_test_data_tree)\n",
    "gbt_accuracy = evaluator_accuracy.evaluate(gbt_predictions)\n",
    "gbt_precision = evaluator_precision.evaluate(gbt_predictions)\n",
    "gbt_recall = evaluator_recall.evaluate(gbt_predictions)\n",
    "gbt_f1 = evaluator_f1.evaluate(gbt_predictions)\n",
    "print(f\"GBT Classifier Accuracy: {gbt_accuracy}\")\n",
    "print(f\"GBT Classifier Precision: {gbt_precision}\")\n",
    "print(f\"GBT Classifier Recall: {gbt_recall}\")\n",
    "print(f\"GBT Classifier F1 Score: {gbt_f1}\")"
   ]
  },
  {
   "cell_type": "markdown",
   "id": "3e02aadd-4bf4-4690-a5bc-df46c8d9cc23",
   "metadata": {},
   "source": [
    "## SHAP"
   ]
  },
  {
   "cell_type": "code",
   "execution_count": 168,
   "id": "5d3b0691-85bd-4ede-99e6-4468f803c76d",
   "metadata": {},
   "outputs": [],
   "source": [
    "#convert the sparse feature vector that is passed to the MLlib GBT model into a pandas dataframe. \n",
    "#This 'pandas_df' will be passed to the Shap TreeExplainer.\n",
    "rows_list = []\n",
    "for row in spark_df.rdd.collect(): \n",
    "    dict1 = {}\n",
    "    dict1.update({k:v for k,v in zip(spark_df.columns,row.features)})\n",
    "    rows_list.append(dict1)\n",
    " \n",
    "pandas_df = pd.DataFrame(rows_list)\n",
    "\n",
    "#Load the GBT model from the path you have saved it\n",
    "# gbt = GBTClassificationModel.load(\"<your path where the GBT model is loaded>\") \n",
    "gbt = gbt_model\n",
    "#make sure the application where your notebook runs has access to the storage path!\n",
    "\n",
    "explainer = shap.TreeExplainer(gbt)\n",
    "#check_additivity requires predictions to be run that is not supported by spark [yet], so it needs to be set to False as it is ignored anyway.\n",
    "shap_values = explainer(pandas_df.head(1), check_additivity = False)\n",
    "shap_pandas_df = pd.DataFrame(shap_values.values, columns = pandas_df.columns)\n",
    "\n",
    "spark_shapdf = spark.createDataFrame(shap_pandas_df)"
   ]
  },
  {
   "cell_type": "code",
   "execution_count": 169,
   "id": "6a1d8ec7-11a3-403c-ba70-1a16acae3c04",
   "metadata": {},
   "outputs": [
    {
     "data": {
      "text/plain": [
       "(1, 4)"
      ]
     },
     "execution_count": 169,
     "metadata": {},
     "output_type": "execute_result"
    }
   ],
   "source": [
    "shap_values.shape"
   ]
  },
  {
   "cell_type": "code",
   "execution_count": 170,
   "id": "10006c1c-6c1d-4a6d-8b0a-c7b7feef57df",
   "metadata": {},
   "outputs": [
    {
     "data": {
      "image/png": "[encoded data removed]",
      "text/plain": [
       "<Figure size 800x310 with 2 Axes>"
      ]
     },
     "metadata": {},
     "output_type": "display_data"
    }
   ],
   "source": [
    "shap.plots.beeswarm(shap_values)"
   ]
  },
  {
   "cell_type": "code",
   "execution_count": 171,
   "id": "ab2cc08f-e339-40be-8ea1-eb9e81254bba",
   "metadata": {},
   "outputs": [
    {
     "data": {
      "text/plain": [
       ".values =\n",
       "array([-0.14619237,  0.00139422, -0.2868198 , -0.63380821])\n",
       "\n",
       ".base_values =\n",
       "-0.4780758415519859\n",
       "\n",
       ".data =\n",
       "array([4.30000019, 3.        , 1.10000002, 0.1       ])"
      ]
     },
     "execution_count": 171,
     "metadata": {},
     "output_type": "execute_result"
    }
   ],
   "source": [
    "shap_values[0]"
   ]
  },
  {
   "cell_type": "code",
   "execution_count": 122,
   "id": "06a507f5-aaf8-4a67-9c7e-af58498dd194",
   "metadata": {},
   "outputs": [
    {
     "data": {
      "text/plain": [
       ".values =\n",
       "array([-0.14619237,  0.00139422, -0.2868198 , -0.63380821])\n",
       "\n",
       ".base_values =\n",
       "-0.4780758415519859\n",
       "\n",
       ".data =\n",
       "array([4.4000001 , 3.        , 1.29999995, 0.2       ])"
      ]
     },
     "execution_count": 122,
     "metadata": {},
     "output_type": "execute_result"
    }
   ],
   "source": [
    "shap_values[1]"
   ]
  },
  {
   "cell_type": "code",
   "execution_count": 130,
   "id": "d652f781-d1a1-4b4a-b5c6-f46876f51023",
   "metadata": {},
   "outputs": [],
   "source": [
    "THRESHOLD = 0.5\n",
    "\n",
    "\n",
    "def shap_udf(row): #work on a single spark dataframe row, for all rows. This work is distributed among all the worker nodes of your Apache Spark cluster.\n",
    "    dict = {}\n",
    "    pos_features = []\n",
    "    neg_features = []\n",
    "\n",
    "    columns = list(row.asDict())\n",
    "    for feature in columns:\n",
    "        dict[feature] = row[feature]\n",
    "    \n",
    "    dict_importance = {key: value for key, value in sorted(dict.items(), key=lambda item: __builtin__.abs(item[1]), reverse = True)}\n",
    "    \n",
    "    for k,v in dict_importance.items():\n",
    "        if __builtin__.abs(v) >= THRESHOLD:\n",
    "            if v > 0:\n",
    "                pos_features.append((k,v))\n",
    "            else:\n",
    "                neg_features.append((k,v))\n",
    "    \n",
    "    features = []\n",
    "    #taking top 5 features from pos and neg features. We can increase this number.\n",
    "    features.append(pos_features[:5])\n",
    "    features.append(neg_features[:5])\n",
    "    \n",
    "    return features\n",
    "\n",
    "\n",
    "udf_obj = F.udf(shap_udf, ArrayType(ArrayType(StructType([\n",
    "  StructField('Feature', StringType()),\n",
    "  StructField('Shap_Value', FloatType()),\n",
    "]))))"
   ]
  },
  {
   "cell_type": "code",
   "execution_count": 131,
   "id": "002e15c3-b1a1-4792-ae34-a8b96c37eb0a",
   "metadata": {},
   "outputs": [],
   "source": [
    "spark_df = transformed_train_data_tree\n",
    "new_sparkdf = spark_shapdf.withColumn('Shap_Importance', udf_obj(F.struct([spark_shapdf[x] for x in spark_shapdf.columns])))"
   ]
  },
  {
   "cell_type": "code",
   "execution_count": 132,
   "id": "d92242f2-6cac-4af6-a084-9eeaa4250029",
   "metadata": {},
   "outputs": [
    {
     "name": "stdout",
     "output_type": "stream",
     "text": [
      "+--------------------+--------------------+-------------------+-------------------+--------------------+\n",
      "|        sepal_length|         sepal_width|       petal_length|        petal_width|     Shap_Importance|\n",
      "+--------------------+--------------------+-------------------+-------------------+--------------------+\n",
      "| -0.1461923748365155|0.001394222556723...|-0.2868197951894507|-0.6338082137037553|[[{sepal_width, 0...|\n",
      "| -0.1461923748365155|0.001394222556723...|-0.2868197951894507|-0.6338082137037553|[[{sepal_width, 0...|\n",
      "| -0.1461923748365155|-0.00278844511344...|-0.2901270207891203|-0.6263183204339151|[[], [{petal_widt...|\n",
      "| -0.1461923748365155|-0.00278844511344...|-0.2901270207891203|-0.6263183204339151|[[], [{petal_widt...|\n",
      "| -0.1461923748365155|-0.00278844511344...|-0.2901270207891203|-0.6263183204339151|[[], [{petal_widt...|\n",
      "| -0.1461923748365155|-0.00278844511344...|-0.2901270207891203|-0.6263183204339151|[[], [{petal_widt...|\n",
      "| -0.1461923748365155|-0.00278844511344...|-0.2901270207891203|-0.6263183204339151|[[], [{petal_widt...|\n",
      "| -0.1461923748365155|-0.00278844511344...|-0.2901270207891203|-0.6263183204339151|[[], [{petal_widt...|\n",
      "| -0.1461923748365155|-0.00278844511344...|-0.2901270207891203|-0.6263183204339151|[[], [{petal_widt...|\n",
      "| -0.1461923748365155|0.001394222556723...|-0.2868197951894507|-0.6338082137037553|[[{sepal_width, 0...|\n",
      "| -0.1461923748365155|0.001394222556723...|-0.2868197951894507|-0.6338082137037553|[[{sepal_width, 0...|\n",
      "| -0.1461923748365155|-0.00278844511344...|-0.2901270207891203|-0.6263183204339151|[[], [{petal_widt...|\n",
      "| -0.1461923748365155|-0.00278844511344...|-0.2901270207891203|-0.6263183204339151|[[], [{petal_widt...|\n",
      "| -0.1461923748365155|-0.00278844511344...|-0.2901270207891203|-0.6263183204339151|[[], [{petal_widt...|\n",
      "| -0.1461923748365155|0.001394222556723...|-0.2868197951894507|-0.6338082137037553|[[{sepal_width, 0...|\n",
      "|  0.6394640499739486|0.001394222556723...| -0.272914371741478|  1.653633943487775|[[{petal_width, 1...|\n",
      "| -0.1461923748365155|0.001394222556723...|-0.2868197951894507|-0.6338082137037553|[[{sepal_width, 0...|\n",
      "| -0.1461923748365155|-0.00278844511344...|-0.2901270207891203|-0.6263183204339151|[[], [{petal_widt...|\n",
      "| -0.1461923748365155|-0.00278844511344...|-0.2901270207891203|-0.6263183204339151|[[], [{petal_widt...|\n",
      "|-0.17351099435377193|0.001394222556723...|-0.2868197951894507|-0.6064895941864988|[[{sepal_width, 0...|\n",
      "+--------------------+--------------------+-------------------+-------------------+--------------------+\n",
      "only showing top 20 rows\n",
      "\n"
     ]
    }
   ],
   "source": [
    "new_sparkdf.show()"
   ]
  },
  {
   "cell_type": "code",
   "execution_count": 133,
   "id": "2a561ad6-e32d-4489-a609-b400f8fe7b6c",
   "metadata": {},
   "outputs": [],
   "source": [
    "final_sparkdf = new_sparkdf.withColumn('Positive_Shap', new_sparkdf.Shap_Importance[0]).withColumn('Negative_Shap', new_sparkdf.Shap_Importance[1])"
   ]
  },
  {
   "cell_type": "code",
   "execution_count": 134,
   "id": "b8a20b8b-5bc7-4530-9f34-8338948be33e",
   "metadata": {},
   "outputs": [
    {
     "name": "stdout",
     "output_type": "stream",
     "text": [
      "+--------------------+--------------------+-------------------+-------------------+--------------------+--------------------+--------------------+\n",
      "|        sepal_length|         sepal_width|       petal_length|        petal_width|     Shap_Importance|       Positive_Shap|       Negative_Shap|\n",
      "+--------------------+--------------------+-------------------+-------------------+--------------------+--------------------+--------------------+\n",
      "| -0.1461923748365155|0.001394222556723...|-0.2868197951894507|-0.6338082137037553|[[{sepal_width, 0...|[{sepal_width, 0....|[{petal_width, -0...|\n",
      "| -0.1461923748365155|0.001394222556723...|-0.2868197951894507|-0.6338082137037553|[[{sepal_width, 0...|[{sepal_width, 0....|[{petal_width, -0...|\n",
      "| -0.1461923748365155|-0.00278844511344...|-0.2901270207891203|-0.6263183204339151|[[], [{petal_widt...|                  []|[{petal_width, -0...|\n",
      "| -0.1461923748365155|-0.00278844511344...|-0.2901270207891203|-0.6263183204339151|[[], [{petal_widt...|                  []|[{petal_width, -0...|\n",
      "| -0.1461923748365155|-0.00278844511344...|-0.2901270207891203|-0.6263183204339151|[[], [{petal_widt...|                  []|[{petal_width, -0...|\n",
      "| -0.1461923748365155|-0.00278844511344...|-0.2901270207891203|-0.6263183204339151|[[], [{petal_widt...|                  []|[{petal_width, -0...|\n",
      "| -0.1461923748365155|-0.00278844511344...|-0.2901270207891203|-0.6263183204339151|[[], [{petal_widt...|                  []|[{petal_width, -0...|\n",
      "| -0.1461923748365155|-0.00278844511344...|-0.2901270207891203|-0.6263183204339151|[[], [{petal_widt...|                  []|[{petal_width, -0...|\n",
      "| -0.1461923748365155|-0.00278844511344...|-0.2901270207891203|-0.6263183204339151|[[], [{petal_widt...|                  []|[{petal_width, -0...|\n",
      "| -0.1461923748365155|0.001394222556723...|-0.2868197951894507|-0.6338082137037553|[[{sepal_width, 0...|[{sepal_width, 0....|[{petal_width, -0...|\n",
      "| -0.1461923748365155|0.001394222556723...|-0.2868197951894507|-0.6338082137037553|[[{sepal_width, 0...|[{sepal_width, 0....|[{petal_width, -0...|\n",
      "| -0.1461923748365155|-0.00278844511344...|-0.2901270207891203|-0.6263183204339151|[[], [{petal_widt...|                  []|[{petal_width, -0...|\n",
      "| -0.1461923748365155|-0.00278844511344...|-0.2901270207891203|-0.6263183204339151|[[], [{petal_widt...|                  []|[{petal_width, -0...|\n",
      "| -0.1461923748365155|-0.00278844511344...|-0.2901270207891203|-0.6263183204339151|[[], [{petal_widt...|                  []|[{petal_width, -0...|\n",
      "| -0.1461923748365155|0.001394222556723...|-0.2868197951894507|-0.6338082137037553|[[{sepal_width, 0...|[{sepal_width, 0....|[{petal_width, -0...|\n",
      "|  0.6394640499739486|0.001394222556723...| -0.272914371741478|  1.653633943487775|[[{petal_width, 1...|[{petal_width, 1....|[{petal_length, -...|\n",
      "| -0.1461923748365155|0.001394222556723...|-0.2868197951894507|-0.6338082137037553|[[{sepal_width, 0...|[{sepal_width, 0....|[{petal_width, -0...|\n",
      "| -0.1461923748365155|-0.00278844511344...|-0.2901270207891203|-0.6263183204339151|[[], [{petal_widt...|                  []|[{petal_width, -0...|\n",
      "| -0.1461923748365155|-0.00278844511344...|-0.2901270207891203|-0.6263183204339151|[[], [{petal_widt...|                  []|[{petal_width, -0...|\n",
      "|-0.17351099435377193|0.001394222556723...|-0.2868197951894507|-0.6064895941864988|[[{sepal_width, 0...|[{sepal_width, 0....|[{petal_width, -0...|\n",
      "+--------------------+--------------------+-------------------+-------------------+--------------------+--------------------+--------------------+\n",
      "only showing top 20 rows\n",
      "\n"
     ]
    }
   ],
   "source": [
    "final_sparkdf.show()"
   ]
  },
  {
   "cell_type": "code",
   "execution_count": 135,
   "id": "44cab271-2d5c-4407-92ea-f4dbf4461741",
   "metadata": {},
   "outputs": [
    {
     "data": {
      "text/plain": [
       "(4,)"
      ]
     },
     "execution_count": 135,
     "metadata": {},
     "output_type": "execute_result"
    }
   ],
   "source": [
    "shap_values[0].data.shape"
   ]
  },
  {
   "cell_type": "code",
   "execution_count": 136,
   "id": "858b0c14-f20a-4e8e-90c0-5a076b876c57",
   "metadata": {},
   "outputs": [
    {
     "data": {
      "text/plain": [
       "array([4.30000019, 3.        , 1.10000002, 0.1       ])"
      ]
     },
     "execution_count": 136,
     "metadata": {},
     "output_type": "execute_result"
    }
   ],
   "source": [
    "shap_values[0].data"
   ]
  },
  {
   "cell_type": "code",
   "execution_count": 137,
   "id": "9b73f944-f780-4106-b255-ce13f66f358c",
   "metadata": {},
   "outputs": [
    {
     "data": {
      "text/plain": [
       "array([4.4000001 , 3.        , 1.29999995, 0.2       ])"
      ]
     },
     "execution_count": 137,
     "metadata": {},
     "output_type": "execute_result"
    }
   ],
   "source": [
    "shap_values[1].data"
   ]
  },
  {
   "cell_type": "code",
   "execution_count": 138,
   "id": "e9911bb9-cbb5-4fbb-bf7b-afdfb82c3dfa",
   "metadata": {},
   "outputs": [
    {
     "name": "stderr",
     "output_type": "stream",
     "text": [
      "                                                                                \r"
     ]
    },
    {
     "data": {
      "text/html": [
       "<div>\n",
       "<style scoped>\n",
       "    .dataframe tbody tr th:only-of-type {\n",
       "        vertical-align: middle;\n",
       "    }\n",
       "\n",
       "    .dataframe tbody tr th {\n",
       "        vertical-align: top;\n",
       "    }\n",
       "\n",
       "    .dataframe thead th {\n",
       "        text-align: right;\n",
       "    }\n",
       "</style>\n",
       "<table border=\"1\" class=\"dataframe\">\n",
       "  <thead>\n",
       "    <tr style=\"text-align: right;\">\n",
       "      <th></th>\n",
       "      <th>sepal_length</th>\n",
       "      <th>sepal_width</th>\n",
       "      <th>petal_length</th>\n",
       "      <th>petal_width</th>\n",
       "      <th>Shap_Importance</th>\n",
       "      <th>Positive_Shap</th>\n",
       "      <th>Negative_Shap</th>\n",
       "    </tr>\n",
       "  </thead>\n",
       "  <tbody>\n",
       "    <tr>\n",
       "      <th>0</th>\n",
       "      <td>-0.146192</td>\n",
       "      <td>0.001394</td>\n",
       "      <td>-0.286820</td>\n",
       "      <td>-0.633808</td>\n",
       "      <td>[[(sepal_width, 0.0013942226069048047)], [(pet...</td>\n",
       "      <td>[(sepal_width, 0.0013942226069048047)]</td>\n",
       "      <td>[(petal_width, -0.6338081955909729), (petal_le...</td>\n",
       "    </tr>\n",
       "    <tr>\n",
       "      <th>1</th>\n",
       "      <td>-0.146192</td>\n",
       "      <td>0.001394</td>\n",
       "      <td>-0.286820</td>\n",
       "      <td>-0.633808</td>\n",
       "      <td>[[(sepal_width, 0.0013942226069048047)], [(pet...</td>\n",
       "      <td>[(sepal_width, 0.0013942226069048047)]</td>\n",
       "      <td>[(petal_width, -0.6338081955909729), (petal_le...</td>\n",
       "    </tr>\n",
       "    <tr>\n",
       "      <th>2</th>\n",
       "      <td>-0.146192</td>\n",
       "      <td>-0.002788</td>\n",
       "      <td>-0.290127</td>\n",
       "      <td>-0.626318</td>\n",
       "      <td>[[], [(petal_width, -0.6263183355331421), (pet...</td>\n",
       "      <td>[]</td>\n",
       "      <td>[(petal_width, -0.6263183355331421), (petal_le...</td>\n",
       "    </tr>\n",
       "    <tr>\n",
       "      <th>3</th>\n",
       "      <td>-0.146192</td>\n",
       "      <td>-0.002788</td>\n",
       "      <td>-0.290127</td>\n",
       "      <td>-0.626318</td>\n",
       "      <td>[[], [(petal_width, -0.6263183355331421), (pet...</td>\n",
       "      <td>[]</td>\n",
       "      <td>[(petal_width, -0.6263183355331421), (petal_le...</td>\n",
       "    </tr>\n",
       "    <tr>\n",
       "      <th>4</th>\n",
       "      <td>-0.146192</td>\n",
       "      <td>-0.002788</td>\n",
       "      <td>-0.290127</td>\n",
       "      <td>-0.626318</td>\n",
       "      <td>[[], [(petal_width, -0.6263183355331421), (pet...</td>\n",
       "      <td>[]</td>\n",
       "      <td>[(petal_width, -0.6263183355331421), (petal_le...</td>\n",
       "    </tr>\n",
       "    <tr>\n",
       "      <th>...</th>\n",
       "      <td>...</td>\n",
       "      <td>...</td>\n",
       "      <td>...</td>\n",
       "      <td>...</td>\n",
       "      <td>...</td>\n",
       "      <td>...</td>\n",
       "      <td>...</td>\n",
       "    </tr>\n",
       "    <tr>\n",
       "      <th>108</th>\n",
       "      <td>0.130277</td>\n",
       "      <td>0.000492</td>\n",
       "      <td>0.777309</td>\n",
       "      <td>1.113500</td>\n",
       "      <td>[[(petal_width, 1.1135003566741943), (petal_le...</td>\n",
       "      <td>[(petal_width, 1.1135003566741943), (petal_len...</td>\n",
       "      <td>[]</td>\n",
       "    </tr>\n",
       "    <tr>\n",
       "      <th>109</th>\n",
       "      <td>0.130277</td>\n",
       "      <td>0.000492</td>\n",
       "      <td>0.777309</td>\n",
       "      <td>1.113500</td>\n",
       "      <td>[[(petal_width, 1.1135003566741943), (petal_le...</td>\n",
       "      <td>[(petal_width, 1.1135003566741943), (petal_len...</td>\n",
       "      <td>[]</td>\n",
       "    </tr>\n",
       "    <tr>\n",
       "      <th>110</th>\n",
       "      <td>0.130277</td>\n",
       "      <td>0.000492</td>\n",
       "      <td>0.777309</td>\n",
       "      <td>1.113500</td>\n",
       "      <td>[[(petal_width, 1.1135003566741943), (petal_le...</td>\n",
       "      <td>[(petal_width, 1.1135003566741943), (petal_len...</td>\n",
       "      <td>[]</td>\n",
       "    </tr>\n",
       "    <tr>\n",
       "      <th>111</th>\n",
       "      <td>0.130277</td>\n",
       "      <td>-0.000983</td>\n",
       "      <td>0.779383</td>\n",
       "      <td>1.112901</td>\n",
       "      <td>[[(petal_width, 1.112900972366333), (petal_len...</td>\n",
       "      <td>[(petal_width, 1.112900972366333), (petal_leng...</td>\n",
       "      <td>[(sepal_width, -0.000983229256235063)]</td>\n",
       "    </tr>\n",
       "    <tr>\n",
       "      <th>112</th>\n",
       "      <td>0.130277</td>\n",
       "      <td>-0.000983</td>\n",
       "      <td>0.779383</td>\n",
       "      <td>1.112901</td>\n",
       "      <td>[[(petal_width, 1.112900972366333), (petal_len...</td>\n",
       "      <td>[(petal_width, 1.112900972366333), (petal_leng...</td>\n",
       "      <td>[(sepal_width, -0.000983229256235063)]</td>\n",
       "    </tr>\n",
       "  </tbody>\n",
       "</table>\n",
       "<p>113 rows × 7 columns</p>\n",
       "</div>"
      ],
      "text/plain": [
       "     sepal_length  sepal_width  petal_length  petal_width  \\\n",
       "0       -0.146192     0.001394     -0.286820    -0.633808   \n",
       "1       -0.146192     0.001394     -0.286820    -0.633808   \n",
       "2       -0.146192    -0.002788     -0.290127    -0.626318   \n",
       "3       -0.146192    -0.002788     -0.290127    -0.626318   \n",
       "4       -0.146192    -0.002788     -0.290127    -0.626318   \n",
       "..            ...          ...           ...          ...   \n",
       "108      0.130277     0.000492      0.777309     1.113500   \n",
       "109      0.130277     0.000492      0.777309     1.113500   \n",
       "110      0.130277     0.000492      0.777309     1.113500   \n",
       "111      0.130277    -0.000983      0.779383     1.112901   \n",
       "112      0.130277    -0.000983      0.779383     1.112901   \n",
       "\n",
       "                                       Shap_Importance  \\\n",
       "0    [[(sepal_width, 0.0013942226069048047)], [(pet...   \n",
       "1    [[(sepal_width, 0.0013942226069048047)], [(pet...   \n",
       "2    [[], [(petal_width, -0.6263183355331421), (pet...   \n",
       "3    [[], [(petal_width, -0.6263183355331421), (pet...   \n",
       "4    [[], [(petal_width, -0.6263183355331421), (pet...   \n",
       "..                                                 ...   \n",
       "108  [[(petal_width, 1.1135003566741943), (petal_le...   \n",
       "109  [[(petal_width, 1.1135003566741943), (petal_le...   \n",
       "110  [[(petal_width, 1.1135003566741943), (petal_le...   \n",
       "111  [[(petal_width, 1.112900972366333), (petal_len...   \n",
       "112  [[(petal_width, 1.112900972366333), (petal_len...   \n",
       "\n",
       "                                         Positive_Shap  \\\n",
       "0               [(sepal_width, 0.0013942226069048047)]   \n",
       "1               [(sepal_width, 0.0013942226069048047)]   \n",
       "2                                                   []   \n",
       "3                                                   []   \n",
       "4                                                   []   \n",
       "..                                                 ...   \n",
       "108  [(petal_width, 1.1135003566741943), (petal_len...   \n",
       "109  [(petal_width, 1.1135003566741943), (petal_len...   \n",
       "110  [(petal_width, 1.1135003566741943), (petal_len...   \n",
       "111  [(petal_width, 1.112900972366333), (petal_leng...   \n",
       "112  [(petal_width, 1.112900972366333), (petal_leng...   \n",
       "\n",
       "                                         Negative_Shap  \n",
       "0    [(petal_width, -0.6338081955909729), (petal_le...  \n",
       "1    [(petal_width, -0.6338081955909729), (petal_le...  \n",
       "2    [(petal_width, -0.6263183355331421), (petal_le...  \n",
       "3    [(petal_width, -0.6263183355331421), (petal_le...  \n",
       "4    [(petal_width, -0.6263183355331421), (petal_le...  \n",
       "..                                                 ...  \n",
       "108                                                 []  \n",
       "109                                                 []  \n",
       "110                                                 []  \n",
       "111             [(sepal_width, -0.000983229256235063)]  \n",
       "112             [(sepal_width, -0.000983229256235063)]  \n",
       "\n",
       "[113 rows x 7 columns]"
      ]
     },
     "execution_count": 138,
     "metadata": {},
     "output_type": "execute_result"
    }
   ],
   "source": [
    "final_sparkdf.toPandas()"
   ]
  },
  {
   "cell_type": "code",
   "execution_count": 159,
   "id": "1c916581-3bcb-4839-ab2c-97c3c7237c09",
   "metadata": {},
   "outputs": [
    {
     "data": {
      "text/html": [
       "<div>\n",
       "<style scoped>\n",
       "    .dataframe tbody tr th:only-of-type {\n",
       "        vertical-align: middle;\n",
       "    }\n",
       "\n",
       "    .dataframe tbody tr th {\n",
       "        vertical-align: top;\n",
       "    }\n",
       "\n",
       "    .dataframe thead th {\n",
       "        text-align: right;\n",
       "    }\n",
       "</style>\n",
       "<table border=\"1\" class=\"dataframe\">\n",
       "  <thead>\n",
       "    <tr style=\"text-align: right;\">\n",
       "      <th></th>\n",
       "      <th>sepal_length</th>\n",
       "      <th>sepal_width</th>\n",
       "      <th>petal_length</th>\n",
       "      <th>petal_width</th>\n",
       "    </tr>\n",
       "  </thead>\n",
       "  <tbody>\n",
       "    <tr>\n",
       "      <th>0</th>\n",
       "      <td>4.3</td>\n",
       "      <td>3.0</td>\n",
       "      <td>1.1</td>\n",
       "      <td>0.1</td>\n",
       "    </tr>\n",
       "  </tbody>\n",
       "</table>\n",
       "</div>"
      ],
      "text/plain": [
       "   sepal_length  sepal_width  petal_length  petal_width\n",
       "0           4.3          3.0           1.1          0.1"
      ]
     },
     "execution_count": 159,
     "metadata": {},
     "output_type": "execute_result"
    }
   ],
   "source": [
    "pd.DataFrame(list(spark_df.select(\"features\").take(1)[0]), columns=assembler_tree.getInputCols())"
   ]
  },
  {
   "cell_type": "code",
   "execution_count": null,
   "id": "e8d8e9d2-ee2b-49cb-b9e2-d4f82fe06370",
   "metadata": {},
   "outputs": [],
   "source": [
    "list(spark_df.select(\"features\").take(1)[0][0])"
   ]
  },
  {
   "cell_type": "code",
   "execution_count": 146,
   "id": "4bd4447f-5adb-4fe4-8442-da8ba5afc594",
   "metadata": {},
   "outputs": [
    {
     "ename": "ValueError",
     "evalue": "could not convert string to float: 'setosa'",
     "output_type": "error",
     "traceback": [
      "\u001b[0;31m---------------------------------------------------------------------------\u001b[0m",
      "\u001b[0;31mValueError\u001b[0m                                Traceback (most recent call last)",
      "Cell \u001b[0;32mIn[146], line 1\u001b[0m\n\u001b[0;32m----> 1\u001b[0m \u001b[43mexplainer\u001b[49m\u001b[38;5;241;43m.\u001b[39;49m\u001b[43mshap_values\u001b[49m\u001b[43m(\u001b[49m\u001b[43mpd\u001b[49m\u001b[38;5;241;43m.\u001b[39;49m\u001b[43mDataFrame\u001b[49m\u001b[43m(\u001b[49m\u001b[43mspark_df\u001b[49m\u001b[38;5;241;43m.\u001b[39;49m\u001b[43mtake\u001b[49m\u001b[43m(\u001b[49m\u001b[38;5;241;43m1\u001b[39;49m\u001b[43m)\u001b[49m\u001b[43m)\u001b[49m\u001b[43m,\u001b[49m\u001b[43m \u001b[49m\u001b[43mcheck_additivity\u001b[49m\u001b[43m \u001b[49m\u001b[38;5;241;43m=\u001b[39;49m\u001b[43m \u001b[49m\u001b[38;5;28;43;01mFalse\u001b[39;49;00m\u001b[43m)\u001b[49m\n",
      "File \u001b[0;32m~/ghq/github.com/mathmathpp2/synapselightgbm_trial/synapse-test/.venv/lib/python3.11/site-packages/shap/explainers/_tree.py:482\u001b[0m, in \u001b[0;36mTreeExplainer.shap_values\u001b[0;34m(self, X, y, tree_limit, approximate, check_additivity, from_call)\u001b[0m\n\u001b[1;32m    479\u001b[0m             out \u001b[38;5;241m=\u001b[39m np\u001b[38;5;241m.\u001b[39mstack(out, axis\u001b[38;5;241m=\u001b[39m\u001b[38;5;241m-\u001b[39m\u001b[38;5;241m1\u001b[39m)\n\u001b[1;32m    480\u001b[0m         \u001b[38;5;28;01mreturn\u001b[39;00m out\n\u001b[0;32m--> 482\u001b[0m X, y, X_missing, flat_output, tree_limit, check_additivity \u001b[38;5;241m=\u001b[39m \u001b[38;5;28;43mself\u001b[39;49m\u001b[38;5;241;43m.\u001b[39;49m\u001b[43m_validate_inputs\u001b[49m\u001b[43m(\u001b[49m\n\u001b[1;32m    483\u001b[0m \u001b[43m    \u001b[49m\u001b[43mX\u001b[49m\u001b[43m,\u001b[49m\u001b[43m \u001b[49m\u001b[43my\u001b[49m\u001b[43m,\u001b[49m\u001b[43m \u001b[49m\u001b[43mtree_limit\u001b[49m\u001b[43m,\u001b[49m\u001b[43m \u001b[49m\u001b[43mcheck_additivity\u001b[49m\n\u001b[1;32m    484\u001b[0m \u001b[43m\u001b[49m\u001b[43m)\u001b[49m\n\u001b[1;32m    485\u001b[0m transform \u001b[38;5;241m=\u001b[39m \u001b[38;5;28mself\u001b[39m\u001b[38;5;241m.\u001b[39mmodel\u001b[38;5;241m.\u001b[39mget_transform()\n\u001b[1;32m    486\u001b[0m _xgboost_cat_unsupported(\u001b[38;5;28mself\u001b[39m\u001b[38;5;241m.\u001b[39mmodel)\n",
      "File \u001b[0;32m~/ghq/github.com/mathmathpp2/synapselightgbm_trial/synapse-test/.venv/lib/python3.11/site-packages/shap/explainers/_tree.py:327\u001b[0m, in \u001b[0;36mTreeExplainer._validate_inputs\u001b[0;34m(self, X, y, tree_limit, check_additivity)\u001b[0m\n\u001b[1;32m    325\u001b[0m     X \u001b[38;5;241m=\u001b[39m X\u001b[38;5;241m.\u001b[39mreshape(\u001b[38;5;241m1\u001b[39m, X\u001b[38;5;241m.\u001b[39mshape[\u001b[38;5;241m0\u001b[39m])\n\u001b[1;32m    326\u001b[0m \u001b[38;5;28;01mif\u001b[39;00m X\u001b[38;5;241m.\u001b[39mdtype \u001b[38;5;241m!=\u001b[39m \u001b[38;5;28mself\u001b[39m\u001b[38;5;241m.\u001b[39mmodel\u001b[38;5;241m.\u001b[39minput_dtype:\n\u001b[0;32m--> 327\u001b[0m     X \u001b[38;5;241m=\u001b[39m \u001b[43mX\u001b[49m\u001b[38;5;241;43m.\u001b[39;49m\u001b[43mastype\u001b[49m\u001b[43m(\u001b[49m\u001b[38;5;28;43mself\u001b[39;49m\u001b[38;5;241;43m.\u001b[39;49m\u001b[43mmodel\u001b[49m\u001b[38;5;241;43m.\u001b[39;49m\u001b[43minput_dtype\u001b[49m\u001b[43m)\u001b[49m\n\u001b[1;32m    328\u001b[0m X_missing \u001b[38;5;241m=\u001b[39m np\u001b[38;5;241m.\u001b[39misnan(X, dtype\u001b[38;5;241m=\u001b[39m\u001b[38;5;28mbool\u001b[39m)\n\u001b[1;32m    329\u001b[0m \u001b[38;5;28;01massert\u001b[39;00m \u001b[38;5;28misinstance\u001b[39m(X, np\u001b[38;5;241m.\u001b[39mndarray), \u001b[38;5;124m\"\u001b[39m\u001b[38;5;124mUnknown instance type: \u001b[39m\u001b[38;5;124m\"\u001b[39m \u001b[38;5;241m+\u001b[39m \u001b[38;5;28mstr\u001b[39m(\u001b[38;5;28mtype\u001b[39m(X))\n",
      "\u001b[0;31mValueError\u001b[0m: could not convert string to float: 'setosa'"
     ]
    }
   ],
   "source": [
    "explainer.shap_values(pd.DataFrame(spark_df.select(\"features\").take(1)), check_additivity = False)"
   ]
  },
  {
   "cell_type": "code",
   "execution_count": 167,
   "id": "ac0f1a96-7817-46b2-9d11-f915b937d817",
   "metadata": {},
   "outputs": [
    {
     "data": {
      "text/plain": [
       ".values =\n",
       "array([[-1.46192375e-01,  1.39422256e-03, -2.86819795e-01,\n",
       "        -6.33808214e-01],\n",
       "       [-1.46192375e-01,  1.39422256e-03, -2.86819795e-01,\n",
       "        -6.33808214e-01],\n",
       "       [-1.46192375e-01, -2.78844511e-03, -2.90127021e-01,\n",
       "        -6.26318320e-01],\n",
       "       [-1.46192375e-01, -2.78844511e-03, -2.90127021e-01,\n",
       "        -6.26318320e-01],\n",
       "       [-1.46192375e-01, -2.78844511e-03, -2.90127021e-01,\n",
       "        -6.26318320e-01],\n",
       "       [-1.46192375e-01, -2.78844511e-03, -2.90127021e-01,\n",
       "        -6.26318320e-01],\n",
       "       [-1.46192375e-01, -2.78844511e-03, -2.90127021e-01,\n",
       "        -6.26318320e-01],\n",
       "       [-1.46192375e-01, -2.78844511e-03, -2.90127021e-01,\n",
       "        -6.26318320e-01],\n",
       "       [-1.46192375e-01, -2.78844511e-03, -2.90127021e-01,\n",
       "        -6.26318320e-01],\n",
       "       [-1.46192375e-01,  1.39422256e-03, -2.86819795e-01,\n",
       "        -6.33808214e-01],\n",
       "       [-1.46192375e-01,  1.39422256e-03, -2.86819795e-01,\n",
       "        -6.33808214e-01],\n",
       "       [-1.46192375e-01, -2.78844511e-03, -2.90127021e-01,\n",
       "        -6.26318320e-01],\n",
       "       [-1.46192375e-01, -2.78844511e-03, -2.90127021e-01,\n",
       "        -6.26318320e-01],\n",
       "       [-1.46192375e-01, -2.78844511e-03, -2.90127021e-01,\n",
       "        -6.26318320e-01],\n",
       "       [-1.46192375e-01,  1.39422256e-03, -2.86819795e-01,\n",
       "        -6.33808214e-01],\n",
       "       [ 6.39464050e-01,  1.39422256e-03, -2.72914372e-01,\n",
       "         1.65363394e+00],\n",
       "       [-1.46192375e-01,  1.39422256e-03, -2.86819795e-01,\n",
       "        -6.33808214e-01],\n",
       "       [-1.46192375e-01, -2.78844511e-03, -2.90127021e-01,\n",
       "        -6.26318320e-01],\n",
       "       [-1.46192375e-01, -2.78844511e-03, -2.90127021e-01,\n",
       "        -6.26318320e-01],\n",
       "       [-1.73510994e-01,  1.39422256e-03, -2.86819795e-01,\n",
       "        -6.06489594e-01],\n",
       "       [-1.73510994e-01,  1.39422256e-03, -2.86819795e-01,\n",
       "        -6.06489594e-01],\n",
       "       [-1.73510994e-01, -2.78844511e-03, -2.90127021e-01,\n",
       "        -5.98999701e-01],\n",
       "       [-1.73510994e-01, -2.78844511e-03, -2.90127021e-01,\n",
       "        -5.98999701e-01],\n",
       "       [-1.73510994e-01, -2.78844511e-03, -2.90127021e-01,\n",
       "        -5.98999701e-01],\n",
       "       [-1.73510994e-01, -2.78844511e-03, -2.90127021e-01,\n",
       "        -5.98999701e-01],\n",
       "       [-1.73510994e-01,  1.39422256e-03, -2.86819795e-01,\n",
       "        -6.06489594e-01],\n",
       "       [-1.73510994e-01, -2.78844511e-03, -2.90127021e-01,\n",
       "        -5.98999701e-01],\n",
       "       [-1.73510994e-01, -2.78844511e-03, -2.90127021e-01,\n",
       "        -5.98999701e-01],\n",
       "       [-1.73510994e-01, -2.78844511e-03, -2.90127021e-01,\n",
       "        -5.98999701e-01],\n",
       "       [-1.73510994e-01, -2.78844511e-03, -2.90127021e-01,\n",
       "        -5.98999701e-01],\n",
       "       [-1.73510994e-01, -2.78844511e-03, -2.90127021e-01,\n",
       "        -5.98999701e-01],\n",
       "       [-1.73510994e-01, -2.78844511e-03, -2.90127021e-01,\n",
       "        -5.98999701e-01],\n",
       "       [-1.73510994e-01, -2.78844511e-03, -2.90127021e-01,\n",
       "        -5.98999701e-01],\n",
       "       [-1.73510994e-01,  1.39422256e-03, -2.86819795e-01,\n",
       "        -6.06489594e-01],\n",
       "       [-1.73510994e-01, -2.78844511e-03, -2.90127021e-01,\n",
       "        -5.98999701e-01],\n",
       "       [-1.73510994e-01, -2.78844511e-03, -2.90127021e-01,\n",
       "        -5.98999701e-01],\n",
       "       [-1.73510994e-01, -2.78844511e-03, -2.90127021e-01,\n",
       "        -5.98999701e-01],\n",
       "       [-1.73510994e-01,  1.39422256e-03, -2.86819795e-01,\n",
       "        -6.06489594e-01],\n",
       "       [-1.73510994e-01, -2.78844511e-03, -2.90127021e-01,\n",
       "        -5.98999701e-01],\n",
       "       [-1.73510994e-01, -2.78844511e-03, -2.90127021e-01,\n",
       "        -5.98999701e-01],\n",
       "       [-1.73510994e-01, -2.78844511e-03, -2.90127021e-01,\n",
       "        -5.98999701e-01],\n",
       "       [-1.73510994e-01, -2.78844511e-03, -2.90127021e-01,\n",
       "        -5.98999701e-01],\n",
       "       [-1.73510994e-01,  1.39422256e-03, -2.86819795e-01,\n",
       "        -6.06489594e-01],\n",
       "       [-1.73510994e-01,  1.39422256e-03, -2.86819795e-01,\n",
       "        -6.06489594e-01],\n",
       "       [-1.73510994e-01,  1.39422256e-03, -2.86819795e-01,\n",
       "        -6.06489594e-01],\n",
       "       [-1.73510994e-01,  1.39422256e-03, -2.86819795e-01,\n",
       "        -6.06489594e-01],\n",
       "       [-1.73510994e-01,  1.39422256e-03, -2.86819795e-01,\n",
       "        -6.06489594e-01],\n",
       "       [-7.69117534e-02,  4.91614616e-04,  9.98168218e-02,\n",
       "         1.99818116e+00],\n",
       "       [-1.73510994e-01,  1.39422256e-03, -2.86819795e-01,\n",
       "        -6.06489594e-01],\n",
       "       [-1.73510994e-01,  1.39422256e-03, -2.86819795e-01,\n",
       "        -6.06489594e-01],\n",
       "       [-7.69117534e-02,  4.91614616e-04,  9.98168218e-02,\n",
       "         1.99818116e+00],\n",
       "       [-1.73510994e-01,  1.39422256e-03, -2.86819795e-01,\n",
       "        -6.06489594e-01],\n",
       "       [-1.73510994e-01,  1.39422256e-03, -2.86819795e-01,\n",
       "        -6.06489594e-01],\n",
       "       [-1.73510994e-01,  1.39422256e-03, -2.86819795e-01,\n",
       "        -6.06489594e-01],\n",
       "       [-1.73510994e-01,  1.39422256e-03, -2.86819795e-01,\n",
       "        -6.06489594e-01],\n",
       "       [-1.73510994e-01,  1.39422256e-03, -2.86819795e-01,\n",
       "        -6.06489594e-01],\n",
       "       [-1.73510994e-01,  1.39422256e-03, -2.86819795e-01,\n",
       "        -6.06489594e-01],\n",
       "       [-1.73510994e-01,  1.39422256e-03, -2.86819795e-01,\n",
       "        -6.06489594e-01],\n",
       "       [-3.01531514e-01,  4.91614616e-04,  5.49056343e-01,\n",
       "         1.77356140e+00],\n",
       "       [-3.01531514e-01,  4.91614616e-04,  5.49056343e-01,\n",
       "         1.77356140e+00],\n",
       "       [-1.73510994e-01, -2.78844511e-03, -2.90127021e-01,\n",
       "        -5.98999701e-01],\n",
       "       [-1.73510994e-01,  1.39422256e-03, -2.86819795e-01,\n",
       "        -6.06489594e-01],\n",
       "       [-3.01531514e-01,  4.91614616e-04,  5.49056343e-01,\n",
       "         1.77356140e+00],\n",
       "       [-8.58167615e-01, -1.80381377e-02, -1.37938519e+00,\n",
       "         1.19016478e+00],\n",
       "       [ 1.80897778e-02,  1.39422256e-03, -1.35321510e-01,\n",
       "        -9.49588651e-01],\n",
       "       [-9.47486133e-01,  1.94542682e-04,  7.69228336e-01,\n",
       "        -8.87362907e-01],\n",
       "       [ 3.81276223e-01,  9.01906886e-03, -2.79010886e-01,\n",
       "         1.91029344e+00],\n",
       "       [ 1.80897778e-02, -2.78844511e-03, -1.38628736e-01,\n",
       "        -9.42098758e-01],\n",
       "       [ 6.62665325e-02,  1.39422256e-03, -1.90697090e-01,\n",
       "        -9.42389826e-01],\n",
       "       [ 6.62665325e-02,  1.39422256e-03, -1.90697090e-01,\n",
       "        -9.42389826e-01],\n",
       "       [ 6.62665325e-02,  1.39422256e-03, -1.90697090e-01,\n",
       "        -9.42389826e-01],\n",
       "       [ 4.08594843e-01,  9.01906886e-03, -2.92670196e-01,\n",
       "         1.89663413e+00],\n",
       "       [ 6.62665325e-02,  1.39422256e-03, -1.90697090e-01,\n",
       "        -9.42389826e-01],\n",
       "       [ 1.30276792e-01, -9.83229232e-04,  7.79383314e-01,\n",
       "         1.11290097e+00],\n",
       "       [ 6.62665325e-02,  1.39422256e-03, -1.90697090e-01,\n",
       "        -9.42389826e-01],\n",
       "       [ 1.79669121e-02,  4.91614616e-04, -8.86009282e-03,\n",
       "         2.01197941e+00],\n",
       "       [ 4.66621598e-01,  1.94542682e-04,  2.07978373e+00,\n",
       "        -5.25022028e-01],\n",
       "       [ 1.30276792e-01, -9.83229232e-04,  7.79383314e-01,\n",
       "         1.11290097e+00],\n",
       "       [ 1.30276792e-01, -9.83229232e-04,  7.79383314e-01,\n",
       "         1.11290097e+00],\n",
       "       [ 1.30276792e-01,  4.91614616e-04,  7.77309069e-01,\n",
       "         1.11350037e+00],\n",
       "       [ 1.30276792e-01,  4.91614616e-04,  7.77309069e-01,\n",
       "         1.11350037e+00],\n",
       "       [ 6.62665325e-02,  1.39422256e-03, -1.90697090e-01,\n",
       "        -9.42389826e-01],\n",
       "       [ 1.30276792e-01, -9.83229232e-04,  7.79383314e-01,\n",
       "         1.11290097e+00],\n",
       "       [ 1.30276792e-01, -9.83229232e-04,  7.79383314e-01,\n",
       "         1.11290097e+00],\n",
       "       [ 6.62665325e-02,  1.39422256e-03, -1.90697090e-01,\n",
       "        -9.42389826e-01],\n",
       "       [ 1.30276792e-01,  4.91614616e-04,  7.77309069e-01,\n",
       "         1.11350037e+00],\n",
       "       [ 1.30276792e-01,  4.91614616e-04,  7.77309069e-01,\n",
       "         1.11350037e+00],\n",
       "       [ 1.30276792e-01,  4.91614616e-04,  7.77309069e-01,\n",
       "         1.11350037e+00],\n",
       "       [ 1.30276792e-01, -9.83229232e-04,  7.79383314e-01,\n",
       "         1.11290097e+00],\n",
       "       [ 6.62665325e-02,  1.39422256e-03, -1.90697090e-01,\n",
       "        -9.42389826e-01],\n",
       "       [-7.67392441e-01,  1.94542682e-04, -2.27655163e-02,\n",
       "        -2.75462747e-01],\n",
       "       [ 1.30276792e-01,  4.91614616e-04,  7.77309069e-01,\n",
       "         1.11350037e+00],\n",
       "       [ 6.62665325e-02, -2.78844511e-03, -1.94004316e-01,\n",
       "        -9.34899933e-01],\n",
       "       [ 1.30276792e-01, -9.83229232e-04,  7.79383314e-01,\n",
       "         1.11290097e+00],\n",
       "       [ 6.62665325e-02,  1.39422256e-03, -1.90697090e-01,\n",
       "        -9.42389826e-01],\n",
       "       [ 1.30276792e-01,  4.91614616e-04,  7.77309069e-01,\n",
       "         1.11350037e+00],\n",
       "       [ 1.13112723e-02, -3.89085365e-04, -7.80953960e-02,\n",
       "        -9.98252952e-01],\n",
       "       [ 1.30276792e-01, -9.83229232e-04,  7.79383314e-01,\n",
       "         1.11290097e+00],\n",
       "       [ 1.30276792e-01, -9.83229232e-04,  7.79383314e-01,\n",
       "         1.11290097e+00],\n",
       "       [ 1.30276792e-01, -9.83229232e-04,  7.79383314e-01,\n",
       "         1.11290097e+00],\n",
       "       [ 6.62665325e-02, -2.78844511e-03, -1.94004316e-01,\n",
       "        -9.34899933e-01],\n",
       "       [ 1.30276792e-01,  4.91614616e-04,  7.77309069e-01,\n",
       "         1.11350037e+00],\n",
       "       [ 4.66621598e-01,  1.94542682e-04,  2.07978373e+00,\n",
       "        -5.25022028e-01],\n",
       "       [ 1.30276792e-01, -9.83229232e-04,  7.79383314e-01,\n",
       "         1.11290097e+00],\n",
       "       [ 1.30276792e-01, -9.83229232e-04,  7.79383314e-01,\n",
       "         1.11290097e+00],\n",
       "       [ 1.30276792e-01,  4.91614616e-04,  7.77309069e-01,\n",
       "         1.11350037e+00],\n",
       "       [ 1.30276792e-01,  4.91614616e-04,  7.77309069e-01,\n",
       "         1.11350037e+00],\n",
       "       [ 1.30276792e-01,  4.91614616e-04,  7.77309069e-01,\n",
       "         1.11350037e+00],\n",
       "       [ 1.30276792e-01,  4.91614616e-04,  7.77309069e-01,\n",
       "         1.11350037e+00],\n",
       "       [ 1.30276792e-01,  4.91614616e-04,  7.77309069e-01,\n",
       "         1.11350037e+00],\n",
       "       [ 1.30276792e-01,  4.91614616e-04,  7.77309069e-01,\n",
       "         1.11350037e+00],\n",
       "       [ 1.30276792e-01, -9.83229232e-04,  7.79383314e-01,\n",
       "         1.11290097e+00],\n",
       "       [ 1.30276792e-01, -9.83229232e-04,  7.79383314e-01,\n",
       "         1.11290097e+00]])\n",
       "\n",
       ".base_values =\n",
       "array([-0.47807584, -0.47807584, -0.47807584, -0.47807584, -0.47807584,\n",
       "       -0.47807584, -0.47807584, -0.47807584, -0.47807584, -0.47807584,\n",
       "       -0.47807584, -0.47807584, -0.47807584, -0.47807584, -0.47807584,\n",
       "       -0.47807584, -0.47807584, -0.47807584, -0.47807584, -0.47807584,\n",
       "       -0.47807584, -0.47807584, -0.47807584, -0.47807584, -0.47807584,\n",
       "       -0.47807584, -0.47807584, -0.47807584, -0.47807584, -0.47807584,\n",
       "       -0.47807584, -0.47807584, -0.47807584, -0.47807584, -0.47807584,\n",
       "       -0.47807584, -0.47807584, -0.47807584, -0.47807584, -0.47807584,\n",
       "       -0.47807584, -0.47807584, -0.47807584, -0.47807584, -0.47807584,\n",
       "       -0.47807584, -0.47807584, -0.47807584, -0.47807584, -0.47807584,\n",
       "       -0.47807584, -0.47807584, -0.47807584, -0.47807584, -0.47807584,\n",
       "       -0.47807584, -0.47807584, -0.47807584, -0.47807584, -0.47807584,\n",
       "       -0.47807584, -0.47807584, -0.47807584, -0.47807584, -0.47807584,\n",
       "       -0.47807584, -0.47807584, -0.47807584, -0.47807584, -0.47807584,\n",
       "       -0.47807584, -0.47807584, -0.47807584, -0.47807584, -0.47807584,\n",
       "       -0.47807584, -0.47807584, -0.47807584, -0.47807584, -0.47807584,\n",
       "       -0.47807584, -0.47807584, -0.47807584, -0.47807584, -0.47807584,\n",
       "       -0.47807584, -0.47807584, -0.47807584, -0.47807584, -0.47807584,\n",
       "       -0.47807584, -0.47807584, -0.47807584, -0.47807584, -0.47807584,\n",
       "       -0.47807584, -0.47807584, -0.47807584, -0.47807584, -0.47807584,\n",
       "       -0.47807584, -0.47807584, -0.47807584, -0.47807584, -0.47807584,\n",
       "       -0.47807584, -0.47807584, -0.47807584, -0.47807584, -0.47807584,\n",
       "       -0.47807584, -0.47807584, -0.47807584])\n",
       "\n",
       ".data =\n",
       "array([[4.30000019, 3.        , 1.10000002, 0.1       ],\n",
       "       [4.4000001 , 3.        , 1.29999995, 0.2       ],\n",
       "       [4.4000001 , 3.20000005, 1.29999995, 0.2       ],\n",
       "       [4.5999999 , 3.0999999 , 1.5       , 0.2       ],\n",
       "       [4.5999999 , 3.20000005, 1.39999998, 0.2       ],\n",
       "       [4.5999999 , 3.4000001 , 1.39999998, 0.30000001],\n",
       "       [4.5999999 , 3.5999999 , 1.        , 0.2       ],\n",
       "       [4.69999981, 3.20000005, 1.29999995, 0.2       ],\n",
       "       [4.69999981, 3.20000005, 1.60000002, 0.2       ],\n",
       "       [4.80000019, 3.        , 1.39999998, 0.1       ],\n",
       "       [4.80000019, 3.        , 1.39999998, 0.30000001],\n",
       "       [4.80000019, 3.0999999 , 1.60000002, 0.2       ],\n",
       "       [4.80000019, 3.4000001 , 1.60000002, 0.2       ],\n",
       "       [4.80000019, 3.4000001 , 1.89999998, 0.2       ],\n",
       "       [4.9000001 , 2.4000001 , 3.29999995, 1.        ],\n",
       "       [4.9000001 , 2.5       , 4.5       , 1.70000005],\n",
       "       [4.9000001 , 3.        , 1.39999998, 0.2       ],\n",
       "       [4.9000001 , 3.0999999 , 1.5       , 0.1       ],\n",
       "       [4.9000001 , 3.0999999 , 1.5       , 0.1       ],\n",
       "       [5.        , 2.        , 3.5       , 1.        ],\n",
       "       [5.        , 2.29999995, 3.29999995, 1.        ],\n",
       "       [5.        , 3.4000001 , 1.60000002, 0.40000001],\n",
       "       [5.        , 3.5       , 1.29999995, 0.30000001],\n",
       "       [5.        , 3.5       , 1.60000002, 0.60000002],\n",
       "       [5.        , 3.5999999 , 1.39999998, 0.2       ],\n",
       "       [5.0999999 , 2.5       , 3.        , 1.10000002],\n",
       "       [5.0999999 , 3.29999995, 1.70000005, 0.5       ],\n",
       "       [5.0999999 , 3.4000001 , 1.5       , 0.2       ],\n",
       "       [5.0999999 , 3.5       , 1.39999998, 0.2       ],\n",
       "       [5.0999999 , 3.70000005, 1.5       , 0.40000001],\n",
       "       [5.0999999 , 3.79999995, 1.5       , 0.30000001],\n",
       "       [5.0999999 , 3.79999995, 1.60000002, 0.2       ],\n",
       "       [5.0999999 , 3.79999995, 1.89999998, 0.40000001],\n",
       "       [5.19999981, 2.70000005, 3.9000001 , 1.39999998],\n",
       "       [5.19999981, 3.4000001 , 1.39999998, 0.2       ],\n",
       "       [5.19999981, 3.5       , 1.5       , 0.2       ],\n",
       "       [5.19999981, 4.0999999 , 1.5       , 0.1       ],\n",
       "       [5.4000001 , 3.        , 4.5       , 1.5       ],\n",
       "       [5.4000001 , 3.4000001 , 1.70000005, 0.2       ],\n",
       "       [5.4000001 , 3.70000005, 1.5       , 0.2       ],\n",
       "       [5.4000001 , 3.9000001 , 1.29999995, 0.40000001],\n",
       "       [5.4000001 , 3.9000001 , 1.70000005, 0.40000001],\n",
       "       [5.5       , 2.4000001 , 3.70000005, 1.        ],\n",
       "       [5.5       , 2.4000001 , 3.79999995, 1.10000002],\n",
       "       [5.5       , 2.5       , 4.        , 1.29999995],\n",
       "       [5.5999999 , 2.5       , 3.9000001 , 1.10000002],\n",
       "       [5.5999999 , 2.70000005, 4.19999981, 1.29999995],\n",
       "       [5.5999999 , 2.79999995, 4.9000001 , 2.        ],\n",
       "       [5.5999999 , 2.9000001 , 3.5999999 , 1.29999995],\n",
       "       [5.5999999 , 3.        , 4.5       , 1.5       ],\n",
       "       [5.69999981, 2.5       , 5.        , 2.        ],\n",
       "       [5.69999981, 2.79999995, 4.0999999 , 1.29999995],\n",
       "       [5.69999981, 2.79999995, 4.5       , 1.29999995],\n",
       "       [5.69999981, 2.9000001 , 4.19999981, 1.29999995],\n",
       "       [5.69999981, 3.        , 4.19999981, 1.20000005],\n",
       "       [5.80000019, 2.5999999 , 4.        , 1.20000005],\n",
       "       [5.80000019, 2.70000005, 3.9000001 , 1.20000005],\n",
       "       [5.80000019, 2.70000005, 4.0999999 , 1.        ],\n",
       "       [5.80000019, 2.70000005, 5.0999999 , 1.89999998],\n",
       "       [5.80000019, 2.79999995, 5.0999999 , 2.4000001 ],\n",
       "       [5.80000019, 4.        , 1.20000005, 0.2       ],\n",
       "       [5.9000001 , 3.        , 4.19999981, 1.5       ],\n",
       "       [5.9000001 , 3.        , 5.0999999 , 1.79999995],\n",
       "       [5.9000001 , 3.20000005, 4.80000019, 1.79999995],\n",
       "       [6.        , 2.20000005, 4.        , 1.        ],\n",
       "       [6.        , 2.70000005, 5.0999999 , 1.60000002],\n",
       "       [6.        , 3.        , 4.80000019, 1.79999995],\n",
       "       [6.        , 3.4000001 , 4.5       , 1.60000002],\n",
       "       [6.0999999 , 2.9000001 , 4.69999981, 1.39999998],\n",
       "       [6.0999999 , 3.        , 4.5999999 , 1.39999998],\n",
       "       [6.19999981, 2.20000005, 4.5       , 1.5       ],\n",
       "       [6.19999981, 2.79999995, 4.80000019, 1.79999995],\n",
       "       [6.19999981, 2.9000001 , 4.30000019, 1.29999995],\n",
       "       [6.19999981, 3.4000001 , 5.4000001 , 2.29999995],\n",
       "       [6.30000019, 2.29999995, 4.4000001 , 1.29999995],\n",
       "       [6.30000019, 2.5       , 5.        , 1.89999998],\n",
       "       [6.30000019, 2.79999995, 5.0999999 , 1.5       ],\n",
       "       [6.30000019, 3.29999995, 6.        , 2.5       ],\n",
       "       [6.30000019, 3.4000001 , 5.5999999 , 2.4000001 ],\n",
       "       [6.4000001 , 2.70000005, 5.30000019, 1.89999998],\n",
       "       [6.4000001 , 2.79999995, 5.5999999 , 2.20000005],\n",
       "       [6.4000001 , 2.9000001 , 4.30000019, 1.29999995],\n",
       "       [6.4000001 , 3.0999999 , 5.5       , 1.79999995],\n",
       "       [6.4000001 , 3.20000005, 5.30000019, 2.29999995],\n",
       "       [6.5       , 2.79999995, 4.5999999 , 1.5       ],\n",
       "       [6.5       , 3.        , 5.19999981, 2.        ],\n",
       "       [6.5       , 3.        , 5.5       , 1.79999995],\n",
       "       [6.5       , 3.        , 5.80000019, 2.20000005],\n",
       "       [6.5       , 3.20000005, 5.0999999 , 2.        ],\n",
       "       [6.5999999 , 2.9000001 , 4.5999999 , 1.29999995],\n",
       "       [6.69999981, 3.        , 5.        , 1.70000005],\n",
       "       [6.69999981, 3.        , 5.19999981, 2.29999995],\n",
       "       [6.69999981, 3.0999999 , 4.4000001 , 1.39999998],\n",
       "       [6.69999981, 3.29999995, 5.69999981, 2.0999999 ],\n",
       "       [6.80000019, 2.79999995, 4.80000019, 1.39999998],\n",
       "       [6.80000019, 3.        , 5.5       , 2.0999999 ],\n",
       "       [6.9000001 , 3.0999999 , 4.9000001 , 1.5       ],\n",
       "       [6.9000001 , 3.0999999 , 5.0999999 , 2.29999995],\n",
       "       [6.9000001 , 3.0999999 , 5.4000001 , 2.0999999 ],\n",
       "       [6.9000001 , 3.20000005, 5.69999981, 2.29999995],\n",
       "       [7.        , 3.20000005, 4.69999981, 1.39999998],\n",
       "       [7.0999999 , 3.        , 5.9000001 , 2.0999999 ],\n",
       "       [7.19999981, 3.        , 5.80000019, 1.60000002],\n",
       "       [7.19999981, 3.20000005, 6.        , 1.79999995],\n",
       "       [7.19999981, 3.5999999 , 6.0999999 , 2.5       ],\n",
       "       [7.30000019, 2.9000001 , 6.30000019, 1.79999995],\n",
       "       [7.4000001 , 2.79999995, 6.0999999 , 1.89999998],\n",
       "       [7.5999999 , 3.        , 6.5999999 , 2.0999999 ],\n",
       "       [7.69999981, 2.5999999 , 6.9000001 , 2.29999995],\n",
       "       [7.69999981, 2.79999995, 6.69999981, 2.        ],\n",
       "       [7.69999981, 3.        , 6.0999999 , 2.29999995],\n",
       "       [7.69999981, 3.79999995, 6.69999981, 2.20000005],\n",
       "       [7.9000001 , 3.79999995, 6.4000001 , 2.        ]])"
      ]
     },
     "execution_count": 167,
     "metadata": {},
     "output_type": "execute_result"
    }
   ],
   "source": [
    "shap_values"
   ]
  },
  {
   "cell_type": "code",
   "execution_count": 163,
   "id": "5795d578-3b4a-44c3-92ee-6a949d93e113",
   "metadata": {},
   "outputs": [],
   "source": [
    "# SHAP計算用のUDFを定義\n",
    "def calculate_shap_udf(row):\n",
    "    row_df = pd.DataFrame(row.select(\"features\")[0], columns=assembler_tree.getInputCols())\n",
    "    explainer = shap.TreeExplainer(gbt)\n",
    "    shap_values = explainer.shap_values(row_df, check_additivity = False)\n",
    "    return shap_values\n",
    "\n",
    "schema = ArrayType(ArrayType(StructType([\n",
    "    StructField('Feature', StringType()),\n",
    "    StructField('Shap_Value', FloatType()),\n",
    "])))\n",
    "\n",
    "shap_udf = F.udf(calculate_shap_udf, schema)"
   ]
  },
  {
   "cell_type": "code",
   "execution_count": 164,
   "id": "2ab5b551-d960-481d-97de-4230d2d647b1",
   "metadata": {},
   "outputs": [
    {
     "name": "stderr",
     "output_type": "stream",
     "text": [
      "Traceback (most recent call last):\n",
      "  File \"/Users/thama/ghq/github.com/mathmathpp2/synapselightgbm_trial/synapse-test/.venv/lib/python3.11/site-packages/pyspark/serializers.py\", line 459, in dumps\n",
      "    return cloudpickle.dumps(obj, pickle_protocol)\n",
      "           ^^^^^^^^^^^^^^^^^^^^^^^^^^^^^^^^^^^^^^^\n",
      "  File \"/Users/thama/ghq/github.com/mathmathpp2/synapselightgbm_trial/synapse-test/.venv/lib/python3.11/site-packages/pyspark/cloudpickle/cloudpickle_fast.py\", line 73, in dumps\n",
      "    cp.dump(obj)\n",
      "  File \"/Users/thama/ghq/github.com/mathmathpp2/synapselightgbm_trial/synapse-test/.venv/lib/python3.11/site-packages/pyspark/cloudpickle/cloudpickle_fast.py\", line 632, in dump\n",
      "    return Pickler.dump(self, obj)\n",
      "           ^^^^^^^^^^^^^^^^^^^^^^^\n",
      "TypeError: cannot pickle '_thread.RLock' object\n"
     ]
    },
    {
     "ename": "PicklingError",
     "evalue": "Could not serialize object: TypeError: cannot pickle '_thread.RLock' object",
     "output_type": "error",
     "traceback": [
      "\u001b[0;31m---------------------------------------------------------------------------\u001b[0m",
      "\u001b[0;31mTypeError\u001b[0m                                 Traceback (most recent call last)",
      "File \u001b[0;32m~/ghq/github.com/mathmathpp2/synapselightgbm_trial/synapse-test/.venv/lib/python3.11/site-packages/pyspark/serializers.py:459\u001b[0m, in \u001b[0;36mCloudPickleSerializer.dumps\u001b[0;34m(self, obj)\u001b[0m\n\u001b[1;32m    458\u001b[0m \u001b[38;5;28;01mtry\u001b[39;00m:\n\u001b[0;32m--> 459\u001b[0m     \u001b[38;5;28;01mreturn\u001b[39;00m \u001b[43mcloudpickle\u001b[49m\u001b[38;5;241;43m.\u001b[39;49m\u001b[43mdumps\u001b[49m\u001b[43m(\u001b[49m\u001b[43mobj\u001b[49m\u001b[43m,\u001b[49m\u001b[43m \u001b[49m\u001b[43mpickle_protocol\u001b[49m\u001b[43m)\u001b[49m\n\u001b[1;32m    460\u001b[0m \u001b[38;5;28;01mexcept\u001b[39;00m pickle\u001b[38;5;241m.\u001b[39mPickleError:\n",
      "File \u001b[0;32m~/ghq/github.com/mathmathpp2/synapselightgbm_trial/synapse-test/.venv/lib/python3.11/site-packages/pyspark/cloudpickle/cloudpickle_fast.py:73\u001b[0m, in \u001b[0;36mdumps\u001b[0;34m(obj, protocol, buffer_callback)\u001b[0m\n\u001b[1;32m     70\u001b[0m cp \u001b[38;5;241m=\u001b[39m CloudPickler(\n\u001b[1;32m     71\u001b[0m     file, protocol\u001b[38;5;241m=\u001b[39mprotocol, buffer_callback\u001b[38;5;241m=\u001b[39mbuffer_callback\n\u001b[1;32m     72\u001b[0m )\n\u001b[0;32m---> 73\u001b[0m \u001b[43mcp\u001b[49m\u001b[38;5;241;43m.\u001b[39;49m\u001b[43mdump\u001b[49m\u001b[43m(\u001b[49m\u001b[43mobj\u001b[49m\u001b[43m)\u001b[49m\n\u001b[1;32m     74\u001b[0m \u001b[38;5;28;01mreturn\u001b[39;00m file\u001b[38;5;241m.\u001b[39mgetvalue()\n",
      "File \u001b[0;32m~/ghq/github.com/mathmathpp2/synapselightgbm_trial/synapse-test/.venv/lib/python3.11/site-packages/pyspark/cloudpickle/cloudpickle_fast.py:632\u001b[0m, in \u001b[0;36mCloudPickler.dump\u001b[0;34m(self, obj)\u001b[0m\n\u001b[1;32m    631\u001b[0m \u001b[38;5;28;01mtry\u001b[39;00m:\n\u001b[0;32m--> 632\u001b[0m     \u001b[38;5;28;01mreturn\u001b[39;00m \u001b[43mPickler\u001b[49m\u001b[38;5;241;43m.\u001b[39;49m\u001b[43mdump\u001b[49m\u001b[43m(\u001b[49m\u001b[38;5;28;43mself\u001b[39;49m\u001b[43m,\u001b[49m\u001b[43m \u001b[49m\u001b[43mobj\u001b[49m\u001b[43m)\u001b[49m\n\u001b[1;32m    633\u001b[0m \u001b[38;5;28;01mexcept\u001b[39;00m \u001b[38;5;167;01mRuntimeError\u001b[39;00m \u001b[38;5;28;01mas\u001b[39;00m e:\n",
      "\u001b[0;31mTypeError\u001b[0m: cannot pickle '_thread.RLock' object",
      "\nDuring handling of the above exception, another exception occurred:\n",
      "\u001b[0;31mPicklingError\u001b[0m                             Traceback (most recent call last)",
      "Cell \u001b[0;32mIn[164], line 1\u001b[0m\n\u001b[0;32m----> 1\u001b[0m new_sparkdf \u001b[38;5;241m=\u001b[39m spark_df\u001b[38;5;241m.\u001b[39mwithColumn(\u001b[38;5;124m'\u001b[39m\u001b[38;5;124mShap_Importance\u001b[39m\u001b[38;5;124m'\u001b[39m, \u001b[43mshap_udf\u001b[49m\u001b[43m(\u001b[49m\u001b[43mF\u001b[49m\u001b[38;5;241;43m.\u001b[39;49m\u001b[43mstruct\u001b[49m\u001b[43m(\u001b[49m\u001b[43m[\u001b[49m\u001b[43mspark_df\u001b[49m\u001b[43m[\u001b[49m\u001b[43mx\u001b[49m\u001b[43m]\u001b[49m\u001b[43m \u001b[49m\u001b[38;5;28;43;01mfor\u001b[39;49;00m\u001b[43m \u001b[49m\u001b[43mx\u001b[49m\u001b[43m \u001b[49m\u001b[38;5;129;43;01min\u001b[39;49;00m\u001b[43m \u001b[49m\u001b[43mspark_df\u001b[49m\u001b[38;5;241;43m.\u001b[39;49m\u001b[43mcolumns\u001b[49m\u001b[43m]\u001b[49m\u001b[43m)\u001b[49m\u001b[43m)\u001b[49m)\n",
      "File \u001b[0;32m~/ghq/github.com/mathmathpp2/synapselightgbm_trial/synapse-test/.venv/lib/python3.11/site-packages/pyspark/sql/udf.py:421\u001b[0m, in \u001b[0;36mUserDefinedFunction._wrapped.<locals>.wrapper\u001b[0;34m(*args)\u001b[0m\n\u001b[1;32m    419\u001b[0m \u001b[38;5;129m@functools\u001b[39m\u001b[38;5;241m.\u001b[39mwraps(\u001b[38;5;28mself\u001b[39m\u001b[38;5;241m.\u001b[39mfunc, assigned\u001b[38;5;241m=\u001b[39massignments)\n\u001b[1;32m    420\u001b[0m \u001b[38;5;28;01mdef\u001b[39;00m \u001b[38;5;21mwrapper\u001b[39m(\u001b[38;5;241m*\u001b[39margs: \u001b[38;5;124m\"\u001b[39m\u001b[38;5;124mColumnOrName\u001b[39m\u001b[38;5;124m\"\u001b[39m) \u001b[38;5;241m-\u001b[39m\u001b[38;5;241m>\u001b[39m Column:\n\u001b[0;32m--> 421\u001b[0m     \u001b[38;5;28;01mreturn\u001b[39;00m \u001b[38;5;28;43mself\u001b[39;49m\u001b[43m(\u001b[49m\u001b[38;5;241;43m*\u001b[39;49m\u001b[43margs\u001b[49m\u001b[43m)\u001b[49m\n",
      "File \u001b[0;32m~/ghq/github.com/mathmathpp2/synapselightgbm_trial/synapse-test/.venv/lib/python3.11/site-packages/pyspark/sql/udf.py:398\u001b[0m, in \u001b[0;36mUserDefinedFunction.__call__\u001b[0;34m(self, *cols)\u001b[0m\n\u001b[1;32m    396\u001b[0m         sc\u001b[38;5;241m.\u001b[39mprofiler_collector\u001b[38;5;241m.\u001b[39madd_profiler(\u001b[38;5;28mid\u001b[39m, memory_profiler)\n\u001b[1;32m    397\u001b[0m \u001b[38;5;28;01melse\u001b[39;00m:\n\u001b[0;32m--> 398\u001b[0m     judf \u001b[38;5;241m=\u001b[39m \u001b[38;5;28;43mself\u001b[39;49m\u001b[38;5;241;43m.\u001b[39;49m\u001b[43m_judf\u001b[49m\n\u001b[1;32m    399\u001b[0m     jPythonUDF \u001b[38;5;241m=\u001b[39m judf\u001b[38;5;241m.\u001b[39mapply(_to_seq(sc, cols, _to_java_column))\n\u001b[1;32m    400\u001b[0m \u001b[38;5;28;01mreturn\u001b[39;00m Column(jPythonUDF)\n",
      "File \u001b[0;32m~/ghq/github.com/mathmathpp2/synapselightgbm_trial/synapse-test/.venv/lib/python3.11/site-packages/pyspark/sql/udf.py:320\u001b[0m, in \u001b[0;36mUserDefinedFunction._judf\u001b[0;34m(self)\u001b[0m\n\u001b[1;32m    313\u001b[0m \u001b[38;5;129m@property\u001b[39m\n\u001b[1;32m    314\u001b[0m \u001b[38;5;28;01mdef\u001b[39;00m \u001b[38;5;21m_judf\u001b[39m(\u001b[38;5;28mself\u001b[39m) \u001b[38;5;241m-\u001b[39m\u001b[38;5;241m>\u001b[39m JavaObject:\n\u001b[1;32m    315\u001b[0m     \u001b[38;5;66;03m# It is possible that concurrent access, to newly created UDF,\u001b[39;00m\n\u001b[1;32m    316\u001b[0m     \u001b[38;5;66;03m# will initialize multiple UserDefinedPythonFunctions.\u001b[39;00m\n\u001b[1;32m    317\u001b[0m     \u001b[38;5;66;03m# This is unlikely, doesn't affect correctness,\u001b[39;00m\n\u001b[1;32m    318\u001b[0m     \u001b[38;5;66;03m# and should have a minimal performance impact.\u001b[39;00m\n\u001b[1;32m    319\u001b[0m     \u001b[38;5;28;01mif\u001b[39;00m \u001b[38;5;28mself\u001b[39m\u001b[38;5;241m.\u001b[39m_judf_placeholder \u001b[38;5;129;01mis\u001b[39;00m \u001b[38;5;28;01mNone\u001b[39;00m:\n\u001b[0;32m--> 320\u001b[0m         \u001b[38;5;28mself\u001b[39m\u001b[38;5;241m.\u001b[39m_judf_placeholder \u001b[38;5;241m=\u001b[39m \u001b[38;5;28;43mself\u001b[39;49m\u001b[38;5;241;43m.\u001b[39;49m\u001b[43m_create_judf\u001b[49m\u001b[43m(\u001b[49m\u001b[38;5;28;43mself\u001b[39;49m\u001b[38;5;241;43m.\u001b[39;49m\u001b[43mfunc\u001b[49m\u001b[43m)\u001b[49m\n\u001b[1;32m    321\u001b[0m     \u001b[38;5;28;01mreturn\u001b[39;00m \u001b[38;5;28mself\u001b[39m\u001b[38;5;241m.\u001b[39m_judf_placeholder\n",
      "File \u001b[0;32m~/ghq/github.com/mathmathpp2/synapselightgbm_trial/synapse-test/.venv/lib/python3.11/site-packages/pyspark/sql/udf.py:329\u001b[0m, in \u001b[0;36mUserDefinedFunction._create_judf\u001b[0;34m(self, func)\u001b[0m\n\u001b[1;32m    326\u001b[0m spark \u001b[38;5;241m=\u001b[39m SparkSession\u001b[38;5;241m.\u001b[39m_getActiveSessionOrCreate()\n\u001b[1;32m    327\u001b[0m sc \u001b[38;5;241m=\u001b[39m spark\u001b[38;5;241m.\u001b[39msparkContext\n\u001b[0;32m--> 329\u001b[0m wrapped_func \u001b[38;5;241m=\u001b[39m \u001b[43m_wrap_function\u001b[49m\u001b[43m(\u001b[49m\u001b[43msc\u001b[49m\u001b[43m,\u001b[49m\u001b[43m \u001b[49m\u001b[43mfunc\u001b[49m\u001b[43m,\u001b[49m\u001b[43m \u001b[49m\u001b[38;5;28;43mself\u001b[39;49m\u001b[38;5;241;43m.\u001b[39;49m\u001b[43mreturnType\u001b[49m\u001b[43m)\u001b[49m\n\u001b[1;32m    330\u001b[0m jdt \u001b[38;5;241m=\u001b[39m spark\u001b[38;5;241m.\u001b[39m_jsparkSession\u001b[38;5;241m.\u001b[39mparseDataType(\u001b[38;5;28mself\u001b[39m\u001b[38;5;241m.\u001b[39mreturnType\u001b[38;5;241m.\u001b[39mjson())\n\u001b[1;32m    331\u001b[0m \u001b[38;5;28;01massert\u001b[39;00m sc\u001b[38;5;241m.\u001b[39m_jvm \u001b[38;5;129;01mis\u001b[39;00m \u001b[38;5;129;01mnot\u001b[39;00m \u001b[38;5;28;01mNone\u001b[39;00m\n",
      "File \u001b[0;32m~/ghq/github.com/mathmathpp2/synapselightgbm_trial/synapse-test/.venv/lib/python3.11/site-packages/pyspark/sql/udf.py:58\u001b[0m, in \u001b[0;36m_wrap_function\u001b[0;34m(sc, func, returnType)\u001b[0m\n\u001b[1;32m     54\u001b[0m \u001b[38;5;28;01mdef\u001b[39;00m \u001b[38;5;21m_wrap_function\u001b[39m(\n\u001b[1;32m     55\u001b[0m     sc: SparkContext, func: Callable[\u001b[38;5;241m.\u001b[39m\u001b[38;5;241m.\u001b[39m\u001b[38;5;241m.\u001b[39m, Any], returnType: \u001b[38;5;124m\"\u001b[39m\u001b[38;5;124mDataTypeOrString\u001b[39m\u001b[38;5;124m\"\u001b[39m\n\u001b[1;32m     56\u001b[0m ) \u001b[38;5;241m-\u001b[39m\u001b[38;5;241m>\u001b[39m JavaObject:\n\u001b[1;32m     57\u001b[0m     command \u001b[38;5;241m=\u001b[39m (func, returnType)\n\u001b[0;32m---> 58\u001b[0m     pickled_command, broadcast_vars, env, includes \u001b[38;5;241m=\u001b[39m \u001b[43m_prepare_for_python_RDD\u001b[49m\u001b[43m(\u001b[49m\u001b[43msc\u001b[49m\u001b[43m,\u001b[49m\u001b[43m \u001b[49m\u001b[43mcommand\u001b[49m\u001b[43m)\u001b[49m\n\u001b[1;32m     59\u001b[0m     \u001b[38;5;28;01massert\u001b[39;00m sc\u001b[38;5;241m.\u001b[39m_jvm \u001b[38;5;129;01mis\u001b[39;00m \u001b[38;5;129;01mnot\u001b[39;00m \u001b[38;5;28;01mNone\u001b[39;00m\n\u001b[1;32m     60\u001b[0m     \u001b[38;5;28;01mreturn\u001b[39;00m sc\u001b[38;5;241m.\u001b[39m_jvm\u001b[38;5;241m.\u001b[39mSimplePythonFunction(\n\u001b[1;32m     61\u001b[0m         \u001b[38;5;28mbytearray\u001b[39m(pickled_command),\n\u001b[1;32m     62\u001b[0m         env,\n\u001b[0;32m   (...)\u001b[0m\n\u001b[1;32m     67\u001b[0m         sc\u001b[38;5;241m.\u001b[39m_javaAccumulator,\n\u001b[1;32m     68\u001b[0m     )\n",
      "File \u001b[0;32m~/ghq/github.com/mathmathpp2/synapselightgbm_trial/synapse-test/.venv/lib/python3.11/site-packages/pyspark/rdd.py:5224\u001b[0m, in \u001b[0;36m_prepare_for_python_RDD\u001b[0;34m(sc, command)\u001b[0m\n\u001b[1;32m   5221\u001b[0m \u001b[38;5;28;01mdef\u001b[39;00m \u001b[38;5;21m_prepare_for_python_RDD\u001b[39m(sc: \u001b[38;5;124m\"\u001b[39m\u001b[38;5;124mSparkContext\u001b[39m\u001b[38;5;124m\"\u001b[39m, command: Any) \u001b[38;5;241m-\u001b[39m\u001b[38;5;241m>\u001b[39m Tuple[\u001b[38;5;28mbytes\u001b[39m, Any, Any, Any]:\n\u001b[1;32m   5222\u001b[0m     \u001b[38;5;66;03m# the serialized command will be compressed by broadcast\u001b[39;00m\n\u001b[1;32m   5223\u001b[0m     ser \u001b[38;5;241m=\u001b[39m CloudPickleSerializer()\n\u001b[0;32m-> 5224\u001b[0m     pickled_command \u001b[38;5;241m=\u001b[39m \u001b[43mser\u001b[49m\u001b[38;5;241;43m.\u001b[39;49m\u001b[43mdumps\u001b[49m\u001b[43m(\u001b[49m\u001b[43mcommand\u001b[49m\u001b[43m)\u001b[49m\n\u001b[1;32m   5225\u001b[0m     \u001b[38;5;28;01massert\u001b[39;00m sc\u001b[38;5;241m.\u001b[39m_jvm \u001b[38;5;129;01mis\u001b[39;00m \u001b[38;5;129;01mnot\u001b[39;00m \u001b[38;5;28;01mNone\u001b[39;00m\n\u001b[1;32m   5226\u001b[0m     \u001b[38;5;28;01mif\u001b[39;00m \u001b[38;5;28mlen\u001b[39m(pickled_command) \u001b[38;5;241m>\u001b[39m sc\u001b[38;5;241m.\u001b[39m_jvm\u001b[38;5;241m.\u001b[39mPythonUtils\u001b[38;5;241m.\u001b[39mgetBroadcastThreshold(sc\u001b[38;5;241m.\u001b[39m_jsc):  \u001b[38;5;66;03m# Default 1M\u001b[39;00m\n\u001b[1;32m   5227\u001b[0m         \u001b[38;5;66;03m# The broadcast will have same life cycle as created PythonRDD\u001b[39;00m\n",
      "File \u001b[0;32m~/ghq/github.com/mathmathpp2/synapselightgbm_trial/synapse-test/.venv/lib/python3.11/site-packages/pyspark/serializers.py:469\u001b[0m, in \u001b[0;36mCloudPickleSerializer.dumps\u001b[0;34m(self, obj)\u001b[0m\n\u001b[1;32m    467\u001b[0m     msg \u001b[38;5;241m=\u001b[39m \u001b[38;5;124m\"\u001b[39m\u001b[38;5;124mCould not serialize object: \u001b[39m\u001b[38;5;132;01m%s\u001b[39;00m\u001b[38;5;124m: \u001b[39m\u001b[38;5;132;01m%s\u001b[39;00m\u001b[38;5;124m\"\u001b[39m \u001b[38;5;241m%\u001b[39m (e\u001b[38;5;241m.\u001b[39m\u001b[38;5;18m__class__\u001b[39m\u001b[38;5;241m.\u001b[39m\u001b[38;5;18m__name__\u001b[39m, emsg)\n\u001b[1;32m    468\u001b[0m print_exec(sys\u001b[38;5;241m.\u001b[39mstderr)\n\u001b[0;32m--> 469\u001b[0m \u001b[38;5;28;01mraise\u001b[39;00m pickle\u001b[38;5;241m.\u001b[39mPicklingError(msg)\n",
      "\u001b[0;31mPicklingError\u001b[0m: Could not serialize object: TypeError: cannot pickle '_thread.RLock' object"
     ]
    }
   ],
   "source": [
    "new_sparkdf = spark_df.withColumn('Shap_Importance', shap_udf(F.struct([spark_df[x] for x in spark_df.columns])))"
   ]
  },
  {
   "cell_type": "code",
   "execution_count": 162,
   "id": "9ad03850-ce12-41ef-9cf5-561556a7236e",
   "metadata": {},
   "outputs": [
    {
     "name": "stdout",
     "output_type": "stream",
     "text": [
      "+--------------------+--------------------+-------------------+-------------------+--------------------+--------------------+--------------------+\n",
      "|        sepal_length|         sepal_width|       petal_length|        petal_width|     Shap_Importance|       Positive_Shap|       Negative_Shap|\n",
      "+--------------------+--------------------+-------------------+-------------------+--------------------+--------------------+--------------------+\n",
      "| -0.1461923748365155|0.001394222556723...|-0.2868197951894507|-0.6338082137037553|[[{sepal_width, 0...|[{sepal_width, 0....|[{petal_width, -0...|\n",
      "| -0.1461923748365155|0.001394222556723...|-0.2868197951894507|-0.6338082137037553|[[{sepal_width, 0...|[{sepal_width, 0....|[{petal_width, -0...|\n",
      "| -0.1461923748365155|-0.00278844511344...|-0.2901270207891203|-0.6263183204339151|[[], [{petal_widt...|                  []|[{petal_width, -0...|\n",
      "| -0.1461923748365155|-0.00278844511344...|-0.2901270207891203|-0.6263183204339151|[[], [{petal_widt...|                  []|[{petal_width, -0...|\n",
      "| -0.1461923748365155|-0.00278844511344...|-0.2901270207891203|-0.6263183204339151|[[], [{petal_widt...|                  []|[{petal_width, -0...|\n",
      "| -0.1461923748365155|-0.00278844511344...|-0.2901270207891203|-0.6263183204339151|[[], [{petal_widt...|                  []|[{petal_width, -0...|\n",
      "| -0.1461923748365155|-0.00278844511344...|-0.2901270207891203|-0.6263183204339151|[[], [{petal_widt...|                  []|[{petal_width, -0...|\n",
      "| -0.1461923748365155|-0.00278844511344...|-0.2901270207891203|-0.6263183204339151|[[], [{petal_widt...|                  []|[{petal_width, -0...|\n",
      "| -0.1461923748365155|-0.00278844511344...|-0.2901270207891203|-0.6263183204339151|[[], [{petal_widt...|                  []|[{petal_width, -0...|\n",
      "| -0.1461923748365155|0.001394222556723...|-0.2868197951894507|-0.6338082137037553|[[{sepal_width, 0...|[{sepal_width, 0....|[{petal_width, -0...|\n",
      "| -0.1461923748365155|0.001394222556723...|-0.2868197951894507|-0.6338082137037553|[[{sepal_width, 0...|[{sepal_width, 0....|[{petal_width, -0...|\n",
      "| -0.1461923748365155|-0.00278844511344...|-0.2901270207891203|-0.6263183204339151|[[], [{petal_widt...|                  []|[{petal_width, -0...|\n",
      "| -0.1461923748365155|-0.00278844511344...|-0.2901270207891203|-0.6263183204339151|[[], [{petal_widt...|                  []|[{petal_width, -0...|\n",
      "| -0.1461923748365155|-0.00278844511344...|-0.2901270207891203|-0.6263183204339151|[[], [{petal_widt...|                  []|[{petal_width, -0...|\n",
      "| -0.1461923748365155|0.001394222556723...|-0.2868197951894507|-0.6338082137037553|[[{sepal_width, 0...|[{sepal_width, 0....|[{petal_width, -0...|\n",
      "|  0.6394640499739486|0.001394222556723...| -0.272914371741478|  1.653633943487775|[[{petal_width, 1...|[{petal_width, 1....|[{petal_length, -...|\n",
      "| -0.1461923748365155|0.001394222556723...|-0.2868197951894507|-0.6338082137037553|[[{sepal_width, 0...|[{sepal_width, 0....|[{petal_width, -0...|\n",
      "| -0.1461923748365155|-0.00278844511344...|-0.2901270207891203|-0.6263183204339151|[[], [{petal_widt...|                  []|[{petal_width, -0...|\n",
      "| -0.1461923748365155|-0.00278844511344...|-0.2901270207891203|-0.6263183204339151|[[], [{petal_widt...|                  []|[{petal_width, -0...|\n",
      "|-0.17351099435377193|0.001394222556723...|-0.2868197951894507|-0.6064895941864988|[[{sepal_width, 0...|[{sepal_width, 0....|[{petal_width, -0...|\n",
      "+--------------------+--------------------+-------------------+-------------------+--------------------+--------------------+--------------------+\n",
      "only showing top 20 rows\n",
      "\n"
     ]
    }
   ],
   "source": [
    "final_sparkdf = new_sparkdf.withColumn('Positive_Shap', new_sparkdf.Shap_Importance[0]).withColumn('Negative_Shap', new_sparkdf.Shap_Importance[1])\n",
    "\n",
    "final_sparkdf.show()\n"
   ]
  },
  {
   "cell_type": "code",
   "execution_count": null,
   "id": "3a0c4e29-00a6-4c6b-bf70-315e5b88f266",
   "metadata": {},
   "outputs": [],
   "source": []
  }
 ],
 "metadata": {
  "kernelspec": {
   "display_name": "Python 3 (ipykernel)",
   "language": "python",
   "name": "python3"
  },
  "language_info": {
   "codemirror_mode": {
    "name": "ipython",
    "version": 3
   },
   "file_extension": ".py",
   "mimetype": "text/x-python",
   "name": "python",
   "nbconvert_exporter": "python",
   "pygments_lexer": "ipython3",
   "version": "3.11.7"
  }
 },
 "nbformat": 4,
 "nbformat_minor": 5
}
